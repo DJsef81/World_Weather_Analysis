{
 "cells": [
  {
   "cell_type": "code",
   "execution_count": 16,
   "metadata": {},
   "outputs": [],
   "source": [
    "# Import the random module.\n",
    "import random\n",
    "# # type random., and after the period, press the Tab key for a list of available random module functions."
   ]
  },
  {
   "cell_type": "code",
   "execution_count": 17,
   "metadata": {},
   "outputs": [],
   "source": [
    "# For testing, we'll use the randint(), random(), randrange(), and uniform() functions."
   ]
  },
  {
   "cell_type": "code",
   "execution_count": 18,
   "metadata": {},
   "outputs": [],
   "source": [
    "# The randint() Function\n",
    "# randint is short for \"random integer.\" In the second cell, after random., type randint(-90, 90), as shown below."
   ]
  },
  {
   "cell_type": "code",
   "execution_count": 19,
   "metadata": {},
   "outputs": [
    {
     "data": {
      "text/plain": [
       "85"
      ]
     },
     "execution_count": 19,
     "metadata": {},
     "output_type": "execute_result"
    }
   ],
   "source": [
    "random.randint(-90, 90)"
   ]
  },
  {
   "cell_type": "code",
   "execution_count": 20,
   "metadata": {},
   "outputs": [],
   "source": [
    "# When we run this cell, we'll get a single integer between –90 and 90 because we need two latitudes between –90 and 90."
   ]
  },
  {
   "cell_type": "code",
   "execution_count": 21,
   "metadata": {},
   "outputs": [],
   "source": [
    "# This is useful information, but it doesn't get the job done for us. \n",
    "# Remember, we need 1,500 random decimal numbers. This function will only return one integer, not a floating-point \n",
    "# decimal, between the given intervals. "
   ]
  },
  {
   "cell_type": "code",
   "execution_count": 22,
   "metadata": {},
   "outputs": [],
   "source": [
    "# The random() Function\n",
    "\n",
    "# Using the random() function, we can get a single floating-point decimal number between 0 and 1.0.\n",
    "\n",
    "# Add random.random() to a new cell and run the cell. \n",
    "# Your output should be a decimal point number between 0 and 1.0, as shown below.\n",
    "\n"
   ]
  },
  {
   "cell_type": "code",
   "execution_count": 23,
   "metadata": {},
   "outputs": [
    {
     "data": {
      "text/plain": [
       "0.4658731154275434"
      ]
     },
     "execution_count": 23,
     "metadata": {},
     "output_type": "execute_result"
    }
   ],
   "source": [
    "random.random()"
   ]
  },
  {
   "cell_type": "code",
   "execution_count": null,
   "metadata": {},
   "outputs": [],
   "source": [
    "# The random() function may help us. \n",
    "\n",
    "# This function returns only a floating-point decimal number between 0 and 1.0. \n",
    "\n",
    "# If we combine random.randint(-90, 89) and random.random() to generate a floating-point decimal between –90 and 90, \n",
    "# we can generate a random latitude. \n",
    "\n",
    "# We changed the lower range of the randint() because we want whole numbers up to 89, so when we add the \n",
    "# floating-point decimal number, we'll generate latitudes between –89.99999 and 89.99999."
   ]
  },
  {
   "cell_type": "code",
   "execution_count": 24,
   "metadata": {},
   "outputs": [
    {
     "data": {
      "text/plain": [
       "-83.77943435090485"
      ]
     },
     "execution_count": 24,
     "metadata": {},
     "output_type": "execute_result"
    }
   ],
   "source": [
    "random_number = random.randint(-90, 89) + random.random()\n",
    "random_number"
   ]
  },
  {
   "cell_type": "code",
   "execution_count": null,
   "metadata": {},
   "outputs": [],
   "source": [
    "# Using these two functions, we can write an algorithm that will generate latitudes between –90 and 89. \n",
    "# Here is a small sample of what it might take to generate ten random floating-point decimal latitudes between –90 and 89.\n"
   ]
  },
  {
   "cell_type": "code",
   "execution_count": 26,
   "metadata": {},
   "outputs": [],
   "source": [
    "x = 1\n",
    "latitudes = []\n",
    "while x < 11:\n",
    "    random_lat = random.randint(-90, 89) + random.random()\n",
    "    latitudes.append(random_lat)\n",
    "    x += 1"
   ]
  },
  {
   "cell_type": "code",
   "execution_count": null,
   "metadata": {},
   "outputs": [],
   "source": [
    "# In the code above we:\n",
    "\n",
    "# 1. Assign the variable x to 1.\n",
    "# 2. Initialize an empty list, latitudes.\n",
    "# 3. We create a while loop where we generate a random latitude and add it to the list.\n",
    "# 4. After the random latitude is added to the list we add one to the variable \"x\".\n",
    "# 5. The while loop condition is checked again and will continue to run as long as x is less than 11."
   ]
  },
  {
   "cell_type": "code",
   "execution_count": 27,
   "metadata": {},
   "outputs": [
    {
     "data": {
      "text/plain": [
       "[26.445182755546373,\n",
       " -55.58746518372575,\n",
       " -61.80093838839334,\n",
       " -45.458393262905666,\n",
       " 49.75737216160471,\n",
       " 66.04145355623785,\n",
       " -3.2603371415243463,\n",
       " -26.25968402833476,\n",
       " -63.792849423942386,\n",
       " -74.00089673574777]"
      ]
     },
     "execution_count": 27,
     "metadata": {},
     "output_type": "execute_result"
    }
   ],
   "source": [
    "latitudes"
   ]
  },
  {
   "cell_type": "code",
   "execution_count": null,
   "metadata": {},
   "outputs": [],
   "source": [
    "# Next, we would have to use a similar method to get random longitudes between –180 and 180, which we can then pair \n",
    "# with the latitudes. This looks promising, but the code to generate the latitudes above is a little long.\n",
    "\n"
   ]
  },
  {
   "cell_type": "code",
   "execution_count": null,
   "metadata": {},
   "outputs": [],
   "source": [
    "# The randrange() Function\n",
    "\n",
    "# The randrange() function behaves differently than the previous two functions. Inside the parentheses, we need to \n",
    "# add two numbers, a lower and upper limit, separated by a comma.\n",
    "\n",
    "# For the randrange() function, there is an option to add a step parameter and set it equal to an integer, which will \n",
    "# generate increments of a given integer value, from the lower to the upper limit.\n",
    "\n",
    "# For example, add random.randrange(-90, 90, step=1) to a new cell and run the cell. \n",
    "# The output is a number between -90 and 90, where the step is the difference between each number in the sequence.\n"
   ]
  },
  {
   "cell_type": "code",
   "execution_count": 28,
   "metadata": {},
   "outputs": [
    {
     "data": {
      "text/plain": [
       "-52"
      ]
     },
     "execution_count": 28,
     "metadata": {},
     "output_type": "execute_result"
    }
   ],
   "source": [
    "random.randrange(-90, 90, step =1)"
   ]
  },
  {
   "cell_type": "code",
   "execution_count": null,
   "metadata": {},
   "outputs": [],
   "source": [
    "# Now add random.randrange(-90, 90, step=3) to a new cell and run the cell. \n",
    "# The output is a number between -90 and 90, where the difference between each number in the sequence is 3.\n"
   ]
  },
  {
   "cell_type": "code",
   "execution_count": 29,
   "metadata": {},
   "outputs": [
    {
     "data": {
      "text/plain": [
       "57"
      ]
     },
     "execution_count": 29,
     "metadata": {},
     "output_type": "execute_result"
    }
   ],
   "source": [
    "random.randrange(-90, 90, step =3)"
   ]
  },
  {
   "cell_type": "code",
   "execution_count": null,
   "metadata": {},
   "outputs": [],
   "source": [
    "# If you don't add the step parameter, the output will be a number with an increment of 1, which is the default \n",
    "# integer value.\n",
    "\n",
    "# This function might help us by combining the random.randrange() and random.random() functions to generate a \n",
    "# floating-point decimal between –90 and 90, like we did with the random.randint() and random.random() functions.\n",
    "\n"
   ]
  },
  {
   "cell_type": "code",
   "execution_count": null,
   "metadata": {},
   "outputs": [],
   "source": [
    "# The uniform() Function\n",
    "\n",
    "# The uniform() function will allow us to generate a floating-point decimal number between two given numbers inside \n",
    "# he parentheses.\n",
    "\n",
    "# Add random.uniform(-90, 90) to a new cell and run the cell. \n",
    "\n"
   ]
  },
  {
   "cell_type": "code",
   "execution_count": 30,
   "metadata": {},
   "outputs": [
    {
     "data": {
      "text/plain": [
       "84.33540371470298"
      ]
     },
     "execution_count": 30,
     "metadata": {},
     "output_type": "execute_result"
    }
   ],
   "source": [
    "random.uniform(-90, 90)"
   ]
  },
  {
   "cell_type": "code",
   "execution_count": null,
   "metadata": {},
   "outputs": [],
   "source": [
    "# The uniform() function could prove to be quite useful because it will return a floating-point decimal number! \n",
    "# The cells below reviews the functions' outputs and limitations:\n"
   ]
  },
  {
   "cell_type": "code",
   "execution_count": null,
   "metadata": {},
   "outputs": [],
   "source": [
    "# randint(-90, 89)\n",
    "# Returns an integer between the interval, -90 and up to 89.\n",
    "# Will not generate a floating-point decimal number."
   ]
  },
  {
   "cell_type": "code",
   "execution_count": null,
   "metadata": {},
   "outputs": [],
   "source": [
    "# random()\n",
    "# Returns a floating-point decimal number between 0 and 1.\n",
    "# Will not generate a whole integer."
   ]
  },
  {
   "cell_type": "code",
   "execution_count": null,
   "metadata": {},
   "outputs": [],
   "source": [
    "# randrange(-90, 90, step=1)\n",
    "# Returns a whole integer between the interval, -90 and 90 where the step is the difference between each number in \n",
    "# the sequence.\n",
    "# Will not generate a floating-point decimal number.\n"
   ]
  },
  {
   "cell_type": "code",
   "execution_count": null,
   "metadata": {},
   "outputs": [],
   "source": [
    "# uniform(-90, 90)\n",
    "# Returns a floating-point decimal number between the interval, -90 and 90.\n",
    "# Will not generate a whole integer.\n"
   ]
  },
  {
   "cell_type": "code",
   "execution_count": null,
   "metadata": {},
   "outputs": [],
   "source": [
    "# Remember, we need to get more than a thousand latitudes and longitudes, and running one of these functions using a \n",
    "# while loop or other methods may take more programming than needed.\n",
    "\n",
    "# To help us generate the 1500 latitudes and longitudes, we can combine the NumPy module with one of the random module \n",
    "# functions."
   ]
  },
  {
   "cell_type": "code",
   "execution_count": null,
   "metadata": {},
   "outputs": [],
   "source": [
    "# The NumPy and random Modules\n",
    "\n",
    "# One way to generate more than a thousand latitudes and longitudes is to chain the NumPy module to the random module \n",
    "# to create an array of latitudes or longitudes between the lowest and highest values, or –90° and 90°, and –180° and \n",
    "# 180°, respectively. \n",
    "\n",
    "# To accomplish this, we'll use the uniform() function from the random module.\n"
   ]
  },
  {
   "cell_type": "code",
   "execution_count": 31,
   "metadata": {},
   "outputs": [],
   "source": [
    "# Import the NumPy module.\n",
    "import numpy as np"
   ]
  },
  {
   "cell_type": "code",
   "execution_count": null,
   "metadata": {},
   "outputs": [],
   "source": [
    "# The NumPy module has a built-in random module, and supplements the built-in Python random module. \n",
    "# There is no need to import the random module if we import the NumPy module, as it's redundant.\n",
    "\n",
    "# In the next cell add np.random.uniform(-90.000, 90.000) to generate a floating-point decimal number between \n",
    "# –90.000 and 90.000. Adding the zeros past the decimal places is optional."
   ]
  },
  {
   "cell_type": "code",
   "execution_count": 32,
   "metadata": {},
   "outputs": [
    {
     "data": {
      "text/plain": [
       "-44.03235545239565"
      ]
     },
     "execution_count": 32,
     "metadata": {},
     "output_type": "execute_result"
    }
   ],
   "source": [
    "np.random.uniform(-90.000, 90.000)"
   ]
  },
  {
   "cell_type": "code",
   "execution_count": 34,
   "metadata": {},
   "outputs": [],
   "source": [
    "# When we use the NumPy module with the random.uniform() function, the parenthetical parameters contain a lower \n",
    "# boundary (low value) and an upper boundary (high value) that are floating-point decimal numbers.\n"
   ]
  },
  {
   "cell_type": "code",
   "execution_count": null,
   "metadata": {},
   "outputs": [],
   "source": [
    "# Another option is to write the parameters as np.random.uniform(low=-90, high=90).\n",
    "\n"
   ]
  },
  {
   "cell_type": "code",
   "execution_count": null,
   "metadata": {},
   "outputs": [],
   "source": [
    "# To generate more than one floating-point decimal number between –90 and 90, we can add the size parameter when we \n",
    "# use the NumPy module and set that equal to any whole number.\n",
    "\n",
    "# To see how this works, add the code np.random.uniform(-90.000, 90.000, size=50) to a new cell and run the cell. \n",
    "# The output is an array of 50 floating-point decimal numbers between –90.000 and 90.000.\n"
   ]
  },
  {
   "cell_type": "code",
   "execution_count": 35,
   "metadata": {},
   "outputs": [
    {
     "data": {
      "text/plain": [
       "array([ 5.21152107e+01,  8.17084495e+01, -6.95331057e+01, -3.65835088e+01,\n",
       "       -8.65355453e+01, -4.52399920e+01,  3.23329802e+01,  7.43138078e+01,\n",
       "        1.81818189e+01,  5.66736936e+01,  1.59506367e+01,  7.76045428e+01,\n",
       "       -1.34731327e+01, -5.05105893e+01, -7.92201362e+01,  8.86177043e+01,\n",
       "        4.87592661e+00, -1.10446190e+01,  2.34445786e+01, -5.02743960e+01,\n",
       "       -1.31465158e+01,  2.98365444e+01,  3.76493882e+01,  2.19326929e+01,\n",
       "        3.70340055e+01, -8.87362031e+01,  2.97690201e+01, -6.90535474e+01,\n",
       "       -7.42570272e+01, -8.21756117e+01,  1.83342331e+01,  8.37303940e+01,\n",
       "       -3.38930757e+01, -2.09091039e+00, -8.79635500e+01, -5.22215498e+01,\n",
       "        1.48543690e+01,  1.75662035e+01, -8.60901057e+01, -5.16321960e+01,\n",
       "        8.63513383e-02, -5.64149095e+01,  6.85701498e+01, -1.90927082e+01,\n",
       "        5.97803532e+01,  7.36099333e+01, -8.55524450e+01,  9.52168398e-01,\n",
       "       -8.20106812e+01, -5.79643070e+00])"
      ]
     },
     "execution_count": 35,
     "metadata": {},
     "output_type": "execute_result"
    }
   ],
   "source": [
    "np.random.uniform(-90.000, 90.000, size=50)"
   ]
  },
  {
   "cell_type": "code",
   "execution_count": null,
   "metadata": {},
   "outputs": [],
   "source": [
    "# Now we are getting somewhere–all we need to do is increase the parameter size to 1,500.\n",
    "\n",
    "# Is this method faster than creating a while loop like we did before? Let's test this for a size of 1,500.\n",
    "\n",
    "# To test how long a piece of code or function takes to run, we can import the \"timeit\" module and use the \n",
    "# %timeit magic command when we run our code or call the function.\n",
    "\n",
    "# First, import the timeit module in a new cell, and run the cell."
   ]
  },
  {
   "cell_type": "code",
   "execution_count": 36,
   "metadata": {},
   "outputs": [],
   "source": [
    "# Import timeit.\n",
    "import timeit"
   ]
  },
  {
   "cell_type": "code",
   "execution_count": null,
   "metadata": {},
   "outputs": [],
   "source": [
    "# Next, add the %timeit magic command before the np.random.uniform(-90.000, 90.000, size=1500) in a new cell. \n",
    "# The cell should look like this:\n",
    "\n"
   ]
  },
  {
   "cell_type": "code",
   "execution_count": 37,
   "metadata": {},
   "outputs": [
    {
     "name": "stdout",
     "output_type": "stream",
     "text": [
      "11.6 µs ± 417 ns per loop (mean ± std. dev. of 7 runs, 100000 loops each)\n"
     ]
    }
   ],
   "source": [
    "%timeit np.random.uniform(-90.000, 90.000, size=1500)"
   ]
  },
  {
   "cell_type": "code",
   "execution_count": null,
   "metadata": {},
   "outputs": [],
   "source": [
    "# When we run the cell, the output is the amount of time it took to run the code for 7 runs and 10,000 loops per run.\n",
    "\n",
    "# The output is the amount of time it took to run this code, which is an average of 11.6 microseconds. \n",
    "# The amount of time it takes to run this code depends on the processing speed and the RAM of your computer.\n"
   ]
  },
  {
   "cell_type": "code",
   "execution_count": 38,
   "metadata": {},
   "outputs": [
    {
     "name": "stdout",
     "output_type": "stream",
     "text": [
      "1.58 ms ± 53.8 µs per loop (mean ± std. dev. of 7 runs, 1000 loops each)\n"
     ]
    }
   ],
   "source": [
    "# Now, let's run the while loop as a function\n",
    "\n",
    "def latitudes(size):\n",
    "    latitudes = []\n",
    "    x = 0\n",
    "    while x < (size):\n",
    "        random_lat = random.randint(-90, 90) + random.random()\n",
    "        latitudes.append(random_lat)\n",
    "        x += 1\n",
    "    return latitudes\n",
    "# Call the function with 1500.\n",
    "%timeit latitudes(1500)"
   ]
  },
  {
   "cell_type": "code",
   "execution_count": null,
   "metadata": {},
   "outputs": [],
   "source": [
    "# The output is 1.58 milliseconds.\n",
    "\n",
    "# Using the np.random.uniform(-90.000, 90.000, size=1500) is 100 times faster than using the function, and our code \n",
    "# is one line, whereas the function uses eight lines!"
   ]
  },
  {
   "cell_type": "code",
   "execution_count": null,
   "metadata": {},
   "outputs": [],
   "source": [
    "# SKILL DRILL\n",
    "\n",
    "# Refactor the code for the while loop with the %timeit magic command and write a for loop that will generate the \n",
    "# 1,500 latitudes.\n",
    "\n",
    "# Here is a small sample of what it might take to generate ten random floating-point decimal latitudes between –90 and 89.\n",
    "\n",
    "# 1. Assign the variable x to 1.\n",
    "# 2. Initialize an empty list, latitudes.\n",
    "# 3. We create a while loop where we generate a random latitude and add it to the list.\n",
    "# 4. After the random latitude is added to the list we add one to the variable \"x\".\n",
    "# 5. The while loop condition is checked again and will continue to run as long as x is less than 11.\n",
    "\n",
    "# x = 1\n",
    "# latitudes = []\n",
    "# while x < 11:\n",
    "#     random_lat = random.randint(-90, 89) + random.random()\n",
    "#     latitudes.append(random_lat)\n",
    "#     x += 1\n",
    "\n",
    "def latitudes(size):\n",
    "    latitudes = []\n",
    "    x = 0\n",
    "    while x < (size):\n",
    "        random_lat = random.randint(-90, 90) + random.random()\n",
    "        latitudes.append(random_lat)\n",
    "        x += 1\n",
    "    return latitudes\n",
    "# Call the function with 1500.\n",
    "%timeit latitudes(1500)"
   ]
  },
  {
   "cell_type": "code",
   "execution_count": null,
   "metadata": {},
   "outputs": [],
   "source": []
  }
 ],
 "metadata": {
  "kernelspec": {
   "display_name": "PythonData",
   "language": "python",
   "name": "pythondata"
  },
  "language_info": {
   "codemirror_mode": {
    "name": "ipython",
    "version": 3
   },
   "file_extension": ".py",
   "mimetype": "text/x-python",
   "name": "python",
   "nbconvert_exporter": "python",
   "pygments_lexer": "ipython3",
   "version": "3.7.7"
  }
 },
 "nbformat": 4,
 "nbformat_minor": 4
}
