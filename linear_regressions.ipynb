{
 "cells": [
  {
   "cell_type": "code",
   "execution_count": null,
   "metadata": {},
   "outputs": [],
   "source": [
    "# 6.4.1 Use Linear Regression to Find the Relationship Between Variables\n",
    "\n",
    "# help the students explore how to determine correlations between weather data and latitude.\n",
    "\n",
    "# You and Jack decide to divide and conquer this task. He will write the piece on the scientific method and describe \n",
    "# how to use linear regression on the scatter plots. \n",
    "\n",
    "# You volunteer to use your scatter plot skills to create scatter plots for each weather parameter on the Northern \n",
    "# and Southern Hemispheres. \n",
    "\n",
    "# You'll need to also add a regression line equation and correlation coefficient to each scatter plot, so your first \n",
    "# step is to brush up on linear regression. \n",
    "\n"
   ]
  },
  {
   "cell_type": "code",
   "execution_count": null,
   "metadata": {},
   "outputs": [],
   "source": [
    "# Using Linear Regression\n",
    "\n",
    "# Linear Regression: one of the most versatile functions in data science. \n",
    "\n",
    "# can be used as:\n",
    "# retrospective analysis of old data\n",
    "# statistical data of current data\n",
    "# predictive modeling for future data\n",
    "\n",
    "# It's used to generate a linear model that describes two seperate variables, or factors. \n",
    "\n",
    "# We can think of it as fitting a line, using the data of a scatter plot. \n",
    "\n"
   ]
  },
  {
   "cell_type": "code",
   "execution_count": null,
   "metadata": {},
   "outputs": [],
   "source": [
    "# Equation of a line is: y = mx + b\n",
    "\n",
    "# defines relationship between x an y values\n",
    "\n",
    "# x = independent variable, y = dependent variable\n",
    "\n",
    "#  slope of the line denoted as \"m\"\n",
    "\n",
    "# y-intercept denoted as \"b\"\n",
    "\n",
    "# Knowing y and b, we can determine the value of y given the value of x, hence why y is dependent on x. \n",
    "\n",
    "# one of the easiest ways to visualize the equations is to look at the line plot. "
   ]
  },
  {
   "cell_type": "code",
   "execution_count": null,
   "metadata": {},
   "outputs": [],
   "source": [
    "# Imagine a line plot where the line raises by 45 degrees, demonstrates an ideal linear relationship, meaning the \n",
    "# x and y values are the same. \n",
    "\n",
    "# This is because the slope is eqaul to 1 and the y-intercept is equal to 0, however this is highly unlikely. \n",
    "\n",
    "# Despite that, we can still determine the y value given the x value. "
   ]
  },
  {
   "cell_type": "code",
   "execution_count": null,
   "metadata": {},
   "outputs": [],
   "source": [
    "# How to perform a linear regression "
   ]
  },
  {
   "cell_type": "code",
   "execution_count": 1,
   "metadata": {},
   "outputs": [],
   "source": [
    "from scipy.stats import linregress\n",
    "import matplotlib.pyplot as plt"
   ]
  },
  {
   "cell_type": "code",
   "execution_count": 2,
   "metadata": {},
   "outputs": [],
   "source": [
    "# assume daylight is dependent on temperature, x and y\n",
    "\n",
    "temps = [18.2, 19.5, 35.9, 50.1, 58.6, 69.9, 82.1, 85.5, 73.5, 55.2, 40.3, 30.1]\n",
    "daylight = [7.6, 9.2, 12.2, 13.4, 13.9, 14.2, 13.5, 11., 10.9, 9.9, 8.4, 7.8]"
   ]
  },
  {
   "cell_type": "code",
   "execution_count": 3,
   "metadata": {
    "scrolled": true
   },
   "outputs": [
    {
     "data": {
      "image/png": "[encoded data removed]",
      "text/plain": [
       "<Figure size 432x288 with 1 Axes>"
      ]
     },
     "metadata": {
      "needs_background": "light"
     },
     "output_type": "display_data"
    }
   ],
   "source": [
    "#visualize with scatterplot\n",
    "\n",
    "plt.scatter(daylight,temps)\n",
    "plt.xlabel('Hours of Daylight')\n",
    "plt.ylabel('Average Monthly Temperature')\n",
    "plt.show()"
   ]
  },
  {
   "cell_type": "code",
   "execution_count": null,
   "metadata": {},
   "outputs": [],
   "source": [
    "# as hours of daylight increase, so does average monthly temperature. "
   ]
  },
  {
   "cell_type": "code",
   "execution_count": null,
   "metadata": {},
   "outputs": [],
   "source": [
    "# Generate our linear regression module\n",
    "\n",
    "# linregress() method with independpent variable as our first arguement, and our dependent variable as our second. "
   ]
  },
  {
   "cell_type": "code",
   "execution_count": 12,
   "metadata": {
    "scrolled": true
   },
   "outputs": [
    {
     "data": {
      "text/plain": [
       "LinregressResult(slope=6.081695331695332, intercept=-15.323648648648678, rvalue=0.6367487061942654, pvalue=0.025978283307519917, stderr=2.328901801448793)"
      ]
     },
     "execution_count": 12,
     "metadata": {},
     "output_type": "execute_result"
    }
   ],
   "source": [
    "linregress(daylight,temps)"
   ]
  },
  {
   "cell_type": "code",
   "execution_count": 23,
   "metadata": {},
   "outputs": [],
   "source": [
    "# calculations results from linregress all have different specific purposeses.\n",
    "\n",
    "# Slope and intercept needed for equation of the line. \n",
    "\n",
    "# rvalue is correlation coefficient, describes how related two variables are \n",
    "\n",
    "#pvalue is for hypothesis testing in statistics\n",
    "\n",
    "# standard error value, stderr, used to describe the standard error of the model. The higher, the less the data describes\n",
    "# the data sufficiently\n",
    "\n"
   ]
  },
  {
   "cell_type": "code",
   "execution_count": null,
   "metadata": {},
   "outputs": [],
   "source": [
    "# save calculations with a tuple. \n",
    "\n",
    "# make the tuple the same size as our linregress output "
   ]
  },
  {
   "cell_type": "code",
   "execution_count": 19,
   "metadata": {},
   "outputs": [],
   "source": [
    "(slope, intercept, rval, pval, stderr) = linregress(daylight,temps)"
   ]
  },
  {
   "cell_type": "code",
   "execution_count": null,
   "metadata": {},
   "outputs": [],
   "source": [
    "# now that we have reverse slope and intercept, we can determine the equation of our line, and visualize our linear\n",
    "# model using the previous plot. "
   ]
  },
  {
   "cell_type": "code",
   "execution_count": null,
   "metadata": {},
   "outputs": [],
   "source": [
    "# print line equations using strings, and rounding our slope and intercept to 2 decimal places. "
   ]
  },
  {
   "cell_type": "code",
   "execution_count": 20,
   "metadata": {},
   "outputs": [
    {
     "name": "stdout",
     "output_type": "stream",
     "text": [
      "y = 6.08x + -15.32\n"
     ]
    }
   ],
   "source": [
    "line_eq = \"y = \" + str(round(slope,2)) + \"x + \" + str(round(intercept,2))\n",
    "print(line_eq)"
   ]
  },
  {
   "cell_type": "code",
   "execution_count": null,
   "metadata": {},
   "outputs": [],
   "source": [
    "# Y is our equation for our linear model. "
   ]
  },
  {
   "cell_type": "code",
   "execution_count": null,
   "metadata": {},
   "outputs": [],
   "source": [
    "# in order to add our linear model to our scatterplot, we must calculate what our dependent y values \n",
    "#(avg monthly temps ) are, given our x values (hours of daylight)\n",
    "\n",
    "# use list comprehension. \n",
    "\n",
    "# multiply each daylight value by the slope and the intercept\n",
    "\n",
    "# save as regress_values"
   ]
  },
  {
   "cell_type": "code",
   "execution_count": 21,
   "metadata": {},
   "outputs": [],
   "source": [
    " regress_values = [(day * slope + intercept) for day in daylight]"
   ]
  },
  {
   "cell_type": "code",
   "execution_count": null,
   "metadata": {},
   "outputs": [],
   "source": [
    "# add our line plot to scatterplot using plyplot.plot"
   ]
  },
  {
   "cell_type": "code",
   "execution_count": 22,
   "metadata": {
    "scrolled": true
   },
   "outputs": [
    {
     "data": {
      "image/png": "[encoded data removed]",
      "text/plain": [
       "<Figure size 432x288 with 1 Axes>"
      ]
     },
     "metadata": {
      "needs_background": "light"
     },
     "output_type": "display_data"
    }
   ],
   "source": [
    "plt.scatter(daylight,temps)\n",
    "plt.plot(daylight,regress_values)\n",
    "plt.xlabel('Hours of Daylight')\n",
    "plt.ylabel('Average Monthly Temperature')\n",
    "plt.show()"
   ]
  },
  {
   "cell_type": "code",
   "execution_count": null,
   "metadata": {},
   "outputs": [],
   "source": [
    "# How related & future predictions of data\n",
    "\n",
    "# can describe how the avg temp relate to the hours of daylight, \n",
    "# predict avg monthly temperature in chicago if hours of daylight ever change. "
   ]
  },
  {
   "cell_type": "code",
   "execution_count": null,
   "metadata": {},
   "outputs": [],
   "source": []
  }
 ],
 "metadata": {
  "kernelspec": {
   "display_name": "PythonData",
   "language": "python",
   "name": "pythondata"
  },
  "language_info": {
   "codemirror_mode": {
    "name": "ipython",
    "version": 3
   },
   "file_extension": ".py",
   "mimetype": "text/x-python",
   "name": "python",
   "nbconvert_exporter": "python",
   "pygments_lexer": "ipython3",
   "version": "3.7.7"
  }
 },
 "nbformat": 4,
 "nbformat_minor": 4
}
