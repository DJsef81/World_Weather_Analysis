{
 "cells": [
  {
   "cell_type": "code",
   "execution_count": 2,
   "metadata": {},
   "outputs": [],
   "source": [
    "# Create Latitude and Longitude Combinations"
   ]
  },
  {
   "cell_type": "code",
   "execution_count": 3,
   "metadata": {},
   "outputs": [],
   "source": [
    "# import the Pandas, Matplotlib, and NumPy dependencies in the first cell, and run the cell.\n",
    "\n",
    "# Import the dependencies.\n",
    "import pandas as pd\n",
    "import matplotlib.pyplot as plt\n",
    "import numpy as np"
   ]
  },
  {
   "cell_type": "code",
   "execution_count": 4,
   "metadata": {},
   "outputs": [],
   "source": [
    "# In the next cell, we'll add the code that generates the latitudes and longitudes, but first, they need to be stored \n",
    "# so that we can access them later. \n",
    "\n",
    "# Since we are creating arrays of latitudes and longitudes, we'll declare each array as a variable.\n",
    "\n",
    "# An array is a data structure that stores values of same data type. \n",
    "# In Python, this is the main difference between arrays and lists. \n",
    "# While python lists can contain values corresponding to different data types, arrays in python can only contain \n",
    "# values corresponding to same data type.\n",
    "\n",
    "# In the next cell, add the following code that we used to generate the random latitudes. \n",
    "\n",
    "# Also, we'll create a similar code snippet that will generate longitudes. \n",
    "\n",
    "# To ensure enough latitudes and longitudes, we'll start with 1,500. \n",
    "\n",
    "# In addition, we'll pack the latitudes (lats) and longitudes (lngs) as pairs by zipping them (lat_lngs) with \n",
    "# the zip() function.\n"
   ]
  },
  {
   "cell_type": "code",
   "execution_count": 5,
   "metadata": {},
   "outputs": [
    {
     "data": {
      "text/plain": [
       "<zip at 0x7fa359eca5f0>"
      ]
     },
     "execution_count": 5,
     "metadata": {},
     "output_type": "execute_result"
    }
   ],
   "source": [
    "# Create a set of random latitude and longitude combinations.\n",
    "lats = np.random.uniform(low=-90.000, high=90.000, size=1500)\n",
    "lngs = np.random.uniform(low=-180.000, high=180.000, size=1500)\n",
    "lat_lngs = zip(lats, lngs)\n",
    "lat_lngs"
   ]
  },
  {
   "cell_type": "code",
   "execution_count": 6,
   "metadata": {},
   "outputs": [],
   "source": [
    "# When we run this cell, the output is a zip object in memory.\n",
    "\n",
    "# A zip object is an iterator of tuples where the first item in each passed iterator is paired together, and then \n",
    "# the second item in each passed iterator are paired together etc.\n",
    "\n",
    "# If the passed iterators have different lengths, the iterator with the least items decides the length of the new \n",
    "# iterator.\n",
    "\n"
   ]
  },
  {
   "cell_type": "code",
   "execution_count": 7,
   "metadata": {},
   "outputs": [],
   "source": [
    "# The zip object packs each pair of lats and lngs having the same index in their respective array into a tuple. \n",
    "\n",
    "# If there are 1,500 latitudes and longitudes, there will be 1,500 tuples of paired latitudes and longitudes, where \n",
    "# each latitude and longitude in a tuple can be accessed by the index of 0 and 1, respectively.\n",
    "\n",
    "# Let's practice zipping a small number of latitudes and longitudes and then unpacking the zipped tuple to see how \n",
    "# the packing and unpacking work.\n",
    "\n",
    "# See: API_practice.ipynb\n"
   ]
  },
  {
   "cell_type": "code",
   "execution_count": 8,
   "metadata": {},
   "outputs": [],
   "source": [
    "# And we're back... We did some stuff in API_practice file for zipping and unzipping lists. \n",
    "\n",
    "# Next, let's unpack our lat_lngs zip object into a list. This way, we only need to create a set of random latitudes \n",
    "# and longitudes once. In a new cell in the WeatherPy.ipynb file, add the following code and run the cell.\n"
   ]
  },
  {
   "cell_type": "code",
   "execution_count": 9,
   "metadata": {},
   "outputs": [],
   "source": [
    "# Add the latitudes and longitudes to a list.\n",
    "coordinates = list(lat_lngs)"
   ]
  },
  {
   "cell_type": "code",
   "execution_count": 10,
   "metadata": {},
   "outputs": [],
   "source": [
    "# You can only unzip a zipped tuple once before it is removed from the computer's memory. \n",
    "# Make sure you unzip the latitudes and longitudes into the coordinates list before moving on.\n"
   ]
  },
  {
   "cell_type": "code",
   "execution_count": 11,
   "metadata": {},
   "outputs": [],
   "source": [
    "# Now that we have our ordered pairs of latitudes and longitudes in a list, we can iterate through the list of tuples \n",
    "# and find the nearest city to those coordinates.\n",
    " "
   ]
  },
  {
   "cell_type": "code",
   "execution_count": 12,
   "metadata": {},
   "outputs": [],
   "source": [
    "# 6.1.5 Generate Random World Cities\n",
    "\n",
    "# We are making great progress. With our list of random latitudes and longitudes, we'll use the coordinates in \n",
    "# our lat_lngs tuple to find the nearest city using Python's citipy module\n"
   ]
  },
  {
   "cell_type": "code",
   "execution_count": 13,
   "metadata": {},
   "outputs": [],
   "source": [
    "# Have to import citipy module. "
   ]
  },
  {
   "cell_type": "code",
   "execution_count": 14,
   "metadata": {},
   "outputs": [],
   "source": [
    "# Now that we are familiar with using the citipy module, we can iterate through our zipped lat_lngs tuple and find \n",
    "# the nearest city. \n",
    "\n",
    "# When we find a city, we'll need to add it to a list so that we can use the cities to get the weather data.\n",
    "\n",
    "# First, import the citipy module in our WeatherPy file. In a new cell, add the following code."
   ]
  },
  {
   "cell_type": "code",
   "execution_count": 16,
   "metadata": {},
   "outputs": [],
   "source": [
    "# Use the citipy module to determine city based on latitude and longitude.\n",
    "from citipy import citipy"
   ]
  },
  {
   "cell_type": "code",
   "execution_count": 17,
   "metadata": {},
   "outputs": [
    {
     "data": {
      "text/plain": [
       "610"
      ]
     },
     "execution_count": 17,
     "metadata": {},
     "output_type": "execute_result"
    }
   ],
   "source": [
    "# Create a list for holding the cities.\n",
    "cities = []\n",
    "# Identify the nearest city for each latitude and longitude combination.\n",
    "for coordinate in coordinates:\n",
    "    city = citipy.nearest_city(coordinate[0], coordinate[1]).city_name\n",
    "\n",
    "    # If the city is unique, then we will add it to the cities list.\n",
    "    if city not in cities:\n",
    "        cities.append(city)\n",
    "# Print the city count to confirm sufficient count.\n",
    "len(cities)"
   ]
  },
  {
   "cell_type": "code",
   "execution_count": null,
   "metadata": {},
   "outputs": [],
   "source": [
    "# What did we just do?\n",
    "\n",
    "# 1. We create a cities list to store city names.\n",
    "\n",
    "# 2. We iterate through the coordinates, as in our practice, and retrieve the nearest city using the latitude and \n",
    "# longitude pair.\n",
    "\n",
    "# 3. We add a decision statement with the logical operator not in to determine whether the found city is already in the \n",
    "#cities list. \n",
    "\n",
    "# 4. If not, then we'll use the append() function to add it. We are doing this because among the 1,500 latitudes and \n",
    "# longitudes, there might be duplicates, which will retrieve duplicate cities, and we want to be sure we capture only\n",
    "# the unique cities.\n"
   ]
  },
  {
   "cell_type": "code",
   "execution_count": null,
   "metadata": {},
   "outputs": [],
   "source": [
    "# The citipy module finds the nearest city to the latitude and longitude pair with a population of 500 or more.\n",
    "\n",
    "# When you run the code block, you should get slightly more than 500 unique cities. \n",
    "\n",
    "# If you get fewer than 500, increase your size limit on the np.random.uniform() function."
   ]
  }
 ],
 "metadata": {
  "kernelspec": {
   "display_name": "PythonData",
   "language": "python",
   "name": "pythondata"
  },
  "language_info": {
   "codemirror_mode": {
    "name": "ipython",
    "version": 3
   },
   "file_extension": ".py",
   "mimetype": "text/x-python",
   "name": "python",
   "nbconvert_exporter": "python",
   "pygments_lexer": "ipython3",
   "version": "3.7.7"
  }
 },
 "nbformat": 4,
 "nbformat_minor": 4
}
