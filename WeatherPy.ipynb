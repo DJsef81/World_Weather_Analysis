{
 "cells": [
  {
   "cell_type": "code",
   "execution_count": 2,
   "metadata": {},
   "outputs": [],
   "source": [
    "# Create Latitude and Longitude Combinations"
   ]
  },
  {
   "cell_type": "code",
   "execution_count": 3,
   "metadata": {},
   "outputs": [],
   "source": [
    "# import the Pandas, Matplotlib, and NumPy dependencies in the first cell, and run the cell.\n",
    "\n",
    "# Import the dependencies.\n",
    "import pandas as pd\n",
    "import matplotlib.pyplot as plt\n",
    "import numpy as np"
   ]
  },
  {
   "cell_type": "code",
   "execution_count": 4,
   "metadata": {},
   "outputs": [],
   "source": [
    "# In the next cell, we'll add the code that generates the latitudes and longitudes, but first, they need to be stored \n",
    "# so that we can access them later. \n",
    "\n",
    "# Since we are creating arrays of latitudes and longitudes, we'll declare each array as a variable.\n",
    "\n",
    "# An array is a data structure that stores values of same data type. \n",
    "# In Python, this is the main difference between arrays and lists. \n",
    "# While python lists can contain values corresponding to different data types, arrays in python can only contain \n",
    "# values corresponding to same data type.\n",
    "\n",
    "# In the next cell, add the following code that we used to generate the random latitudes. \n",
    "\n",
    "# Also, we'll create a similar code snippet that will generate longitudes. \n",
    "\n",
    "# To ensure enough latitudes and longitudes, we'll start with 1,500. \n",
    "\n",
    "# In addition, we'll pack the latitudes (lats) and longitudes (lngs) as pairs by zipping them (lat_lngs) with \n",
    "# the zip() function.\n"
   ]
  },
  {
   "cell_type": "code",
   "execution_count": 5,
   "metadata": {},
   "outputs": [
    {
     "data": {
      "text/plain": [
       "<zip at 0x7fa359eca5f0>"
      ]
     },
     "execution_count": 5,
     "metadata": {},
     "output_type": "execute_result"
    }
   ],
   "source": [
    "# Create a set of random latitude and longitude combinations.\n",
    "lats = np.random.uniform(low=-90.000, high=90.000, size=1500)\n",
    "lngs = np.random.uniform(low=-180.000, high=180.000, size=1500)\n",
    "lat_lngs = zip(lats, lngs)\n",
    "lat_lngs"
   ]
  },
  {
   "cell_type": "code",
   "execution_count": 6,
   "metadata": {},
   "outputs": [],
   "source": [
    "# When we run this cell, the output is a zip object in memory.\n",
    "\n",
    "# A zip object is an iterator of tuples where the first item in each passed iterator is paired together, and then \n",
    "# the second item in each passed iterator are paired together etc.\n",
    "\n",
    "# If the passed iterators have different lengths, the iterator with the least items decides the length of the new \n",
    "# iterator.\n",
    "\n"
   ]
  },
  {
   "cell_type": "code",
   "execution_count": 7,
   "metadata": {},
   "outputs": [],
   "source": [
    "# The zip object packs each pair of lats and lngs having the same index in their respective array into a tuple. \n",
    "\n",
    "# If there are 1,500 latitudes and longitudes, there will be 1,500 tuples of paired latitudes and longitudes, where \n",
    "# each latitude and longitude in a tuple can be accessed by the index of 0 and 1, respectively.\n",
    "\n",
    "# Let's practice zipping a small number of latitudes and longitudes and then unpacking the zipped tuple to see how \n",
    "# the packing and unpacking work.\n",
    "\n",
    "# See: API_practice.ipynb\n"
   ]
  },
  {
   "cell_type": "code",
   "execution_count": 8,
   "metadata": {},
   "outputs": [],
   "source": [
    "# And we're back... We did some stuff in API_practice file for zipping and unzipping lists. \n",
    "\n",
    "# Next, let's unpack our lat_lngs zip object into a list. This way, we only need to create a set of random latitudes \n",
    "# and longitudes once. In a new cell in the WeatherPy.ipynb file, add the following code and run the cell.\n"
   ]
  },
  {
   "cell_type": "code",
   "execution_count": 9,
   "metadata": {},
   "outputs": [],
   "source": [
    "# Add the latitudes and longitudes to a list.\n",
    "coordinates = list(lat_lngs)"
   ]
  },
  {
   "cell_type": "code",
   "execution_count": 10,
   "metadata": {},
   "outputs": [],
   "source": [
    "# You can only unzip a zipped tuple once before it is removed from the computer's memory. \n",
    "# Make sure you unzip the latitudes and longitudes into the coordinates list before moving on.\n"
   ]
  },
  {
   "cell_type": "code",
   "execution_count": 11,
   "metadata": {},
   "outputs": [],
   "source": [
    "# Now that we have our ordered pairs of latitudes and longitudes in a list, we can iterate through the list of tuples \n",
    "# and find the nearest city to those coordinates.\n",
    " "
   ]
  },
  {
   "cell_type": "code",
   "execution_count": 12,
   "metadata": {},
   "outputs": [],
   "source": [
    "# 6.1.5 Generate Random World Cities\n",
    "\n",
    "# We are making great progress. With our list of random latitudes and longitudes, we'll use the coordinates in \n",
    "# our lat_lngs tuple to find the nearest city using Python's citipy module\n"
   ]
  },
  {
   "cell_type": "code",
   "execution_count": 13,
   "metadata": {},
   "outputs": [],
   "source": [
    "# Have to import citipy module. "
   ]
  },
  {
   "cell_type": "code",
   "execution_count": 14,
   "metadata": {},
   "outputs": [],
   "source": [
    "# Now that we are familiar with using the citipy module, we can iterate through our zipped lat_lngs tuple and find \n",
    "# the nearest city. \n",
    "\n",
    "# When we find a city, we'll need to add it to a list so that we can use the cities to get the weather data.\n",
    "\n",
    "# First, import the citipy module in our WeatherPy file. In a new cell, add the following code."
   ]
  },
  {
   "cell_type": "code",
   "execution_count": 16,
   "metadata": {},
   "outputs": [],
   "source": [
    "# Use the citipy module to determine city based on latitude and longitude.\n",
    "from citipy import citipy"
   ]
  },
  {
   "cell_type": "code",
   "execution_count": 17,
   "metadata": {},
   "outputs": [
    {
     "data": {
      "text/plain": [
       "610"
      ]
     },
     "execution_count": 17,
     "metadata": {},
     "output_type": "execute_result"
    }
   ],
   "source": [
    "# Create a list for holding the cities.\n",
    "cities = []\n",
    "# Identify the nearest city for each latitude and longitude combination.\n",
    "for coordinate in coordinates:\n",
    "    city = citipy.nearest_city(coordinate[0], coordinate[1]).city_name\n",
    "\n",
    "    # If the city is unique, then we will add it to the cities list.\n",
    "    if city not in cities:\n",
    "        cities.append(city)\n",
    "# Print the city count to confirm sufficient count.\n",
    "len(cities)"
   ]
  },
  {
   "cell_type": "code",
   "execution_count": null,
   "metadata": {},
   "outputs": [],
   "source": [
    "# What did we just do?\n",
    "\n",
    "# 1. We create a cities list to store city names.\n",
    "\n",
    "# 2. We iterate through the coordinates, as in our practice, and retrieve the nearest city using the latitude and \n",
    "# longitude pair.\n",
    "\n",
    "# 3. We add a decision statement with the logical operator not in to determine whether the found city is already in the \n",
    "#cities list. \n",
    "\n",
    "# 4. If not, then we'll use the append() function to add it. We are doing this because among the 1,500 latitudes and \n",
    "# longitudes, there might be duplicates, which will retrieve duplicate cities, and we want to be sure we capture only\n",
    "# the unique cities.\n"
   ]
  },
  {
   "cell_type": "code",
   "execution_count": null,
   "metadata": {},
   "outputs": [],
   "source": [
    "# The citipy module finds the nearest city to the latitude and longitude pair with a population of 500 or more.\n",
    "\n",
    "# When you run the code block, you should get slightly more than 500 unique cities. \n",
    "\n",
    "# If you get fewer than 500, increase your size limit on the np.random.uniform() function."
   ]
  },
  {
   "cell_type": "code",
   "execution_count": null,
   "metadata": {},
   "outputs": [],
   "source": [
    "# Well, for some reason we're going back to this fucking worksheet...\n"
   ]
  },
  {
   "cell_type": "code",
   "execution_count": null,
   "metadata": {},
   "outputs": [],
   "source": [
    "# 6.2.6 Get the City Weather Data\n",
    "\n",
    "# retrieving the weather data from 500+ cities.\n",
    "\n",
    "# Let's use pseudocode to map out, at a high level, how we will get the weather data for each city for the website.\n",
    "\n",
    "# We will need to do the following:\n",
    "\n",
    "# Import our dependencies and initialize counters and an empty list that will hold the weather data.\n",
    "\n",
    "# Loop through the cities list.\n",
    "# Group the cities in sets of 50 to log the process as we find the weather data for each city.\n",
    "    # Two counters will be needed here: one to log the city count from 1 to 50, and another for the sets.\n",
    "\n",
    "# Build the city_url or endpoint for each city.\n",
    "# Log the URL and the record and set numbers.\n",
    "# Make an API request for each city.\n",
    "\n",
    "# Parse the JSON weather data for the following:\n",
    "# City, country, and date\n",
    "# Latitude and longitude\n",
    "# Maximum temperature\n",
    "# Humidity\n",
    "# Cloudiness\n",
    "# Wind speed\n",
    "\n",
    "# Add the data to a list in a dictionary format and then convert the list to a DataFrame."
   ]
  },
  {
   "cell_type": "code",
   "execution_count": null,
   "metadata": {},
   "outputs": [],
   "source": [
    "# Import Dependencies, and Initialize an Empty List and Counters\n",
    "\n",
    "# At the top of our code block, we are going to declare an empty list, city_data = []; \n",
    "# add a print statement that references the beginning of the logging; and create counters for the record numbers, \n",
    "# 1–50; and the set counter.\n",
    "\n"
   ]
  },
  {
   "cell_type": "code",
   "execution_count": null,
   "metadata": {},
   "outputs": [],
   "source": [
    "# Before adding new code to our WeatherPy file, make sure the following tasks are completed:\n",
    "\n",
    "#(stuff from API-practice)"
   ]
  },
  {
   "cell_type": "code",
   "execution_count": null,
   "metadata": {},
   "outputs": [],
   "source": [
    "# Import your Requests Library and the weather_api_key.\n"
   ]
  },
  {
   "cell_type": "code",
   "execution_count": 25,
   "metadata": {},
   "outputs": [],
   "source": [
    "# Import the requests library.\n",
    "import requests\n",
    "\n",
    "# Import the API key.\n",
    "from config import weather_api_key"
   ]
  },
  {
   "cell_type": "code",
   "execution_count": 26,
   "metadata": {},
   "outputs": [],
   "source": [
    "# Build the basic URL for the OpenWeatherMap with your weather_api_key added to the URL.\n"
   ]
  },
  {
   "cell_type": "code",
   "execution_count": 27,
   "metadata": {},
   "outputs": [
    {
     "name": "stdout",
     "output_type": "stream",
     "text": [
      "http://api.openweathermap.org/data/2.5/weather?units=Imperial&APPID=32d9b44c37f623141c5d4159e7a8d47e\n"
     ]
    }
   ],
   "source": [
    "# Starting URL for Weather Map API Call.\n",
    "url = \"http://api.openweathermap.org/data/2.5/weather?units=Imperial&APPID=\" + weather_api_key\n",
    "print(url)"
   ]
  },
  {
   "cell_type": "code",
   "execution_count": null,
   "metadata": {},
   "outputs": [],
   "source": [
    "# Build the basic URL for the OpenWeatherMap with your weather_api_key added to the URL.\n"
   ]
  },
  {
   "cell_type": "code",
   "execution_count": null,
   "metadata": {},
   "outputs": [],
   "source": [
    "# Also, import the datetime module using the following code:"
   ]
  },
  {
   "cell_type": "code",
   "execution_count": 28,
   "metadata": {},
   "outputs": [],
   "source": [
    "# Import the datetime module from the datetime library.\n",
    "from datetime import datetime"
   ]
  },
  {
   "cell_type": "code",
   "execution_count": null,
   "metadata": {},
   "outputs": [],
   "source": [
    "# List & counters"
   ]
  },
  {
   "cell_type": "code",
   "execution_count": null,
   "metadata": {},
   "outputs": [],
   "source": [
    "# Create an empty list to hold the weather data.\n",
    "city_data = []\n",
    "# Print the beginning of the logging.\n",
    "print(\"Beginning Data Retrieval     \")\n",
    "print(\"-----------------------------\")\n",
    "\n",
    "# Create counters.\n",
    "record_count = 1\n",
    "set_count = 1"
   ]
  },
  {
   "cell_type": "code",
   "execution_count": null,
   "metadata": {},
   "outputs": [],
   "source": [
    "# Next, add the following code to a new cell, but DON'T RUN THE CELL. Instead, continue to add on to this code block.\n",
    "\n",
    "# In the code block, we have initialized the counters at 1 because we want the first iteration of the logging for \n",
    "# each recorded response and the set to start at 1.\n"
   ]
  },
  {
   "cell_type": "code",
   "execution_count": null,
   "metadata": {},
   "outputs": [],
   "source": [
    "# Loop Through the List of Cities and Build the City URL\n",
    " \n",
    "# Next, we need to iterate through our list of cities and begin building the URL for each city, while grouping our \n",
    "# records in sets of 50. \n",
    "\n",
    "# To do this, use for i in range(len(cities)) and the index to tell us when we get to 50. \n",
    "# We can also retrieve the city from the cities list and add it to the city_url by using indexing, as shown in the \n",
    "# following code:\n",
    "    \n",
    "    "
   ]
  },
  {
   "cell_type": "code",
   "execution_count": 31,
   "metadata": {},
   "outputs": [],
   "source": [
    "# Loop through all the cities in our list.\n",
    "# for i in range(len(cities)):\n",
    "\n",
    "#     # Group cities in sets of 50 for logging purposes.\n",
    "#     if (i % 50 == 0 and i >= 50):\n",
    "#         set_count += 1\n",
    "#         record_count = 1\n",
    "#     # Create endpoint URL with each city.\n",
    "#     city_url = url + \"&q=\" + \"i\""
   ]
  },
  {
   "cell_type": "code",
   "execution_count": 32,
   "metadata": {},
   "outputs": [],
   "source": [
    "# Every time we want to reference the city in our code, we need to use the indexing on the cities_list. \n",
    "\n",
    "# Unfortunately, this will cause programming errors when we are building the city_url because it adds the index, \n",
    "# not the city name, to the city_url. \n",
    "\n",
    "# To fix this issue, we need to create another for loop to get the city from the cities list.\n",
    "\n",
    "# Instead of using two for loops, we can use the enumerate() method as an alternative way to iterate through the list \n",
    "# of cities and retrieve both the index, and the city from the list. \n",
    "\n",
    "# The syntax for the enumerate() method is the following:\n",
    "\n"
   ]
  },
  {
   "cell_type": "code",
   "execution_count": null,
   "metadata": {},
   "outputs": [],
   "source": [
    "# for i, item in enumerate(list):"
   ]
  },
  {
   "cell_type": "code",
   "execution_count": null,
   "metadata": {},
   "outputs": [],
   "source": [
    "# Let's use the enumerate() method to get the index of the city for logging purposes and the city for creating an \n",
    "# endpoint URL. \n"
   ]
  },
  {
   "cell_type": "code",
   "execution_count": null,
   "metadata": {},
   "outputs": [],
   "source": [
    "# Add the following code below our counters.\n"
   ]
  },
  {
   "cell_type": "code",
   "execution_count": null,
   "metadata": {},
   "outputs": [],
   "source": [
    "# Loop through all the cities in the list.\n",
    "# for i, city in enumerate(cities):\n",
    "\n",
    "    # Group cities in sets of 50 for logging purposes.\n",
    "    # if (i % 50 == 0 and i >= 50):\n",
    "    #     set_count += 1\n",
    "    #     record_count = 1\n",
    "    # Create endpoint URL with each city.\n",
    "    # city_url = url + \"&q=\" + city.replace(\" \",\"+\")\n",
    "\n",
    "    # Log the URL, record, and set numbers and the city.\n",
    "    # print(f\"Processing Record {record_count} of Set {set_count} | {city}\")\n",
    "    # Add 1 to the record count.\n",
    "    # record_count += 1"
   ]
  },
  {
   "cell_type": "code",
   "execution_count": null,
   "metadata": {},
   "outputs": [],
   "source": [
    "# Let's break down the code so we understand fully before continuing:\n",
    "\n",
    "# We create the for loop with the enumerate() method and reference the index and the city in the list.\n",
    "\n",
    "# In the conditional statement, we check if the remainder of the index divided by 50 is equal to 0 and if the index \n",
    "# is greater than or equal to 50. \n",
    "# If the statement is true, then the set_count and the record_count are equal to 1.\n",
    "\n",
    "# Inside the conditional statement, we create the URL endpoint for each city, as before. \n",
    "# However, we are removing the blank spaces in the city name and concatenating the city name with, \n",
    "# city.replace(\" \",\"+\"). \n",
    "# This will find the corresponding weather data for the city instead of finding the weather data for the first part\n",
    "# of the city name.\n",
    "\n",
    "# Compare the URLs for Cabo (Links to an external site.) and Cabo San Lucas (Links to an external site.).\n",
    "\n",
    "# Also, we add a print statement that tells us the record count and set count, and the city that is being processed.\n",
    "\n",
    "# Then we add one to the record count before the next city is processed.\n",
    "\n",
    "# When retrieving data from an API, or even when scraping a webpage, make sure there is data to parse. \n",
    "# If not, the script might stop at that moment and not finish getting all the data we need.\n",
    "\n",
    "# Next, we will retrieve the data from the JSON weather response for each city."
   ]
  },
  {
   "cell_type": "code",
   "execution_count": null,
   "metadata": {},
   "outputs": [],
   "source": [
    "# This reading is bullshit. before we \"retrieve the data from the JSON weather response for each city:\n",
    "\n",
    "# Handle API Request Errors with try-except Blocks (SEE try-except file)"
   ]
  },
  {
   "cell_type": "code",
   "execution_count": null,
   "metadata": {},
   "outputs": [],
   "source": [
    "# We can add a try-except block to our code and, below the tryblock, we will parse the data from the JSON file and add \n",
    "# the data to the cities list.\n"
   ]
  },
  {
   "cell_type": "code",
   "execution_count": null,
   "metadata": {},
   "outputs": [],
   "source": [
    "# Let's add a try block. Then, below the try block, do the following:\n",
    "\n",
    "# 1. Parse the JSON file.\n",
    "\n",
    "# 2. Assign variables for each piece of data we need.\n",
    "\n",
    "# 3. Add the data to the cities list in a dictionary format."
   ]
  },
  {
   "cell_type": "code",
   "execution_count": null,
   "metadata": {},
   "outputs": [],
   "source": [
    "# Add the following code after record_count += 1."
   ]
  },
  {
   "cell_type": "code",
   "execution_count": null,
   "metadata": {},
   "outputs": [],
   "source": [
    "# Run an API request for each of the cities.\n",
    "#    try:\n",
    "#        # Parse the JSON and retrieve data.\n",
    "#        city_weather = requests.get(city_url).json()\n",
    "#        # Parse out the needed data.\n",
    "#        city_lat = city_weather[\"coord\"][\"lat\"]\n",
    "#        city_lng = city_weather[\"coord\"][\"lon\"]\n",
    "#        city_max_temp = city_weather[\"main\"][\"temp_max\"]\n",
    "#        city_humidity = city_weather[\"main\"][\"humidity\"]\n",
    "#        city_clouds = city_weather[\"clouds\"][\"all\"]\n",
    "#        city_wind = city_weather[\"wind\"][\"speed\"]\n",
    "#        city_country = city_weather[\"sys\"][\"country\"]\n",
    "#        # Convert the date to ISO standard.\n",
    "#        city_date = datetime.utcfromtimestamp(city_weather[\"dt\"]).strftime('%Y-%m-%d %H:%M:%S')\n",
    "#        # Append the city information into city_data list.\n",
    "#        city_data.append({\"City\": city.title(),\n",
    "#                          \"Lat\": city_lat,\n",
    "#                          \"Lng\": city_lng,\n",
    "#                          \"Max Temp\": city_max_temp,\n",
    "#                          \"Humidity\": city_humidity,\n",
    "#                          \"Cloudiness\": city_clouds,\n",
    "#                          \"Wind Speed\": city_wind,\n",
    "#                          \"Country\": city_country,\n",
    "#                          \"Date\": city_date})\n",
    "\n",
    "## If an error is experienced, skip the city.\n",
    "#    except:\n",
    "#        print(\"City not found. Skipping...\")\n",
    "#        pass\n",
    "\n",
    "## Indicate that Data Loading is complete.\n",
    "#print(\"-----------------------------\")\n",
    "#print(\"Data Retrieval Complete      \")\n",
    "#print(\"-----------------------------\")"
   ]
  },
  {
   "cell_type": "code",
   "execution_count": 34,
   "metadata": {},
   "outputs": [],
   "source": [
    "# Let's review the code:\n",
    "\n",
    "# We parse the JSON file for the current city.\n",
    "\n",
    "# If there is no weather data for the city, i.e. , a <Response [404]> then there is no weather to retrieve and City \n",
    "# not found. Skipping... is printed.\n",
    "\n",
    "# If there is weather data for the city, we will retrieve the latitude, longitude, maximum temperature, humidity, \n",
    "# cloudiness, wind speed, and date and assign those values to variables.\n",
    "\n",
    "# We could write a try-except block for each one of these parameters to handle the KeyError if the data wasn't found, \n",
    "# but since these parameters are always present in the response this won't be necessary.\n",
    "\n",
    "# We append the cities list with a dictionary for that city, where the key-value pairs are the values from our \n",
    "# weather parameters.\n",
    "\n",
    "# Finally, below the try block and after the except block, we add the closing print statement, which will let us know \n",
    "# the data retrieval has been completed. Make sure that your except block is indented and in line with the try block, \n",
    "# and that the print statements are flush with the margin.\n",
    "\n",
    "# Under the print statement in the except block, we add the pass statement, which is a general purpose statement to \n",
    "# handle all errors encountered and to allow the program to continue."
   ]
  },
  {
   "cell_type": "code",
   "execution_count": null,
   "metadata": {},
   "outputs": [],
   "source": [
    "# Generally, it isn't good coding practice to add the pass statement to the except block. \n",
    "\n",
    "# Ideally, we want to handle or catch each error as it happens and do something specific \n",
    "# (e.g., add another try block or print out the error).\n",
    "\n"
   ]
  },
  {
   "cell_type": "code",
   "execution_count": null,
   "metadata": {},
   "outputs": [],
   "source": [
    "# Now you have all your code to perform the API calls for each city and parse the JSON data. Let's run the cell!\n",
    "\n"
   ]
  },
  {
   "cell_type": "code",
   "execution_count": 35,
   "metadata": {},
   "outputs": [
    {
     "name": "stdout",
     "output_type": "stream",
     "text": [
      "Beginning Data Retrieval     \n",
      "-----------------------------\n",
      "Processing Record 1 of Set 1 | piacabucu\n",
      "Processing Record 2 of Set 1 | inuvik\n",
      "Processing Record 3 of Set 1 | jamestown\n",
      "Processing Record 4 of Set 1 | yuli\n",
      "Processing Record 5 of Set 1 | namie\n",
      "Processing Record 6 of Set 1 | teo\n",
      "Processing Record 7 of Set 1 | bambous virieux\n",
      "Processing Record 8 of Set 1 | kaitangata\n",
      "Processing Record 9 of Set 1 | mataura\n",
      "Processing Record 10 of Set 1 | cape town\n",
      "Processing Record 11 of Set 1 | rikitea\n",
      "Processing Record 12 of Set 1 | ust-omchug\n",
      "Processing Record 13 of Set 1 | saint-philippe\n",
      "Processing Record 14 of Set 1 | ribeira grande\n",
      "Processing Record 15 of Set 1 | bredasdorp\n",
      "Processing Record 16 of Set 1 | severo-kurilsk\n",
      "Processing Record 17 of Set 1 | nizhneyansk\n",
      "City not found. Skipping...\n",
      "Processing Record 18 of Set 1 | new norfolk\n",
      "Processing Record 19 of Set 1 | susangerd\n",
      "Processing Record 20 of Set 1 | hermanus\n",
      "Processing Record 21 of Set 1 | setharja\n",
      "City not found. Skipping...\n",
      "Processing Record 22 of Set 1 | ushuaia\n",
      "Processing Record 23 of Set 1 | huambo\n",
      "Processing Record 24 of Set 1 | merauke\n",
      "Processing Record 25 of Set 1 | iqaluit\n",
      "Processing Record 26 of Set 1 | talcahuano\n",
      "Processing Record 27 of Set 1 | cidreira\n",
      "Processing Record 28 of Set 1 | santiago del estero\n",
      "Processing Record 29 of Set 1 | safaga\n",
      "Processing Record 30 of Set 1 | castro\n",
      "Processing Record 31 of Set 1 | wakkanai\n",
      "Processing Record 32 of Set 1 | kamenskoye\n",
      "City not found. Skipping...\n",
      "Processing Record 33 of Set 1 | punta arenas\n",
      "Processing Record 34 of Set 1 | namibe\n",
      "Processing Record 35 of Set 1 | linqiong\n",
      "Processing Record 36 of Set 1 | vaini\n",
      "Processing Record 37 of Set 1 | sentyabrskiy\n",
      "City not found. Skipping...\n",
      "Processing Record 38 of Set 1 | panubigan\n",
      "Processing Record 39 of Set 1 | canutama\n",
      "Processing Record 40 of Set 1 | tautira\n",
      "Processing Record 41 of Set 1 | melong\n",
      "Processing Record 42 of Set 1 | upernavik\n",
      "Processing Record 43 of Set 1 | klaksvik\n",
      "Processing Record 44 of Set 1 | provideniya\n",
      "Processing Record 45 of Set 1 | avera\n",
      "Processing Record 46 of Set 1 | labuhan\n",
      "Processing Record 47 of Set 1 | ayorou\n",
      "Processing Record 48 of Set 1 | qaanaaq\n",
      "Processing Record 49 of Set 1 | thompson\n",
      "Processing Record 50 of Set 1 | kapaa\n",
      "Processing Record 1 of Set 2 | jinji\n",
      "Processing Record 2 of Set 2 | zaysan\n",
      "Processing Record 3 of Set 2 | muisne\n",
      "Processing Record 4 of Set 2 | busselton\n",
      "Processing Record 5 of Set 2 | port elizabeth\n",
      "Processing Record 6 of Set 2 | suntar\n",
      "Processing Record 7 of Set 2 | lima\n",
      "Processing Record 8 of Set 2 | broken hill\n",
      "Processing Record 9 of Set 2 | sam roi yot\n",
      "Processing Record 10 of Set 2 | churapcha\n",
      "Processing Record 11 of Set 2 | hobart\n",
      "Processing Record 12 of Set 2 | anadyr\n",
      "Processing Record 13 of Set 2 | hithadhoo\n",
      "Processing Record 14 of Set 2 | carnarvon\n",
      "Processing Record 15 of Set 2 | alofi\n",
      "Processing Record 16 of Set 2 | eldikan\n",
      "City not found. Skipping...\n",
      "Processing Record 17 of Set 2 | pisco\n",
      "Processing Record 18 of Set 2 | roald\n",
      "Processing Record 19 of Set 2 | kamiiso\n",
      "Processing Record 20 of Set 2 | mys shmidta\n",
      "City not found. Skipping...\n",
      "Processing Record 21 of Set 2 | airai\n",
      "Processing Record 22 of Set 2 | saint george\n",
      "Processing Record 23 of Set 2 | butaritari\n",
      "Processing Record 24 of Set 2 | tsihombe\n",
      "City not found. Skipping...\n",
      "Processing Record 25 of Set 2 | tabuk\n",
      "Processing Record 26 of Set 2 | nelson bay\n",
      "Processing Record 27 of Set 2 | belaya gora\n",
      "Processing Record 28 of Set 2 | amderma\n",
      "City not found. Skipping...\n",
      "Processing Record 29 of Set 2 | bluff\n",
      "Processing Record 30 of Set 2 | luang prabang\n",
      "Processing Record 31 of Set 2 | broome\n",
      "Processing Record 32 of Set 2 | nabinagar\n",
      "Processing Record 33 of Set 2 | college\n",
      "Processing Record 34 of Set 2 | bangui\n",
      "Processing Record 35 of Set 2 | saiki\n",
      "Processing Record 36 of Set 2 | taolanaro\n",
      "City not found. Skipping...\n",
      "Processing Record 37 of Set 2 | sitka\n",
      "Processing Record 38 of Set 2 | olavarria\n",
      "Processing Record 39 of Set 2 | palabuhanratu\n",
      "City not found. Skipping...\n",
      "Processing Record 40 of Set 2 | ponta do sol\n",
      "Processing Record 41 of Set 2 | ulaangom\n",
      "Processing Record 42 of Set 2 | ancud\n",
      "Processing Record 43 of Set 2 | onufriyivka\n",
      "Processing Record 44 of Set 2 | naze\n",
      "Processing Record 45 of Set 2 | lebu\n",
      "Processing Record 46 of Set 2 | arraial do cabo\n",
      "Processing Record 47 of Set 2 | kaseda\n",
      "Processing Record 48 of Set 2 | geraldton\n",
      "Processing Record 49 of Set 2 | vaitupu\n",
      "City not found. Skipping...\n",
      "Processing Record 50 of Set 2 | yellowknife\n",
      "Processing Record 1 of Set 3 | hilo\n",
      "Processing Record 2 of Set 3 | tabou\n",
      "Processing Record 3 of Set 3 | aken\n",
      "Processing Record 4 of Set 3 | preobrazheniye\n",
      "Processing Record 5 of Set 3 | kutum\n",
      "Processing Record 6 of Set 3 | sassandra\n",
      "Processing Record 7 of Set 3 | fairfield\n",
      "Processing Record 8 of Set 3 | east london\n",
      "Processing Record 9 of Set 3 | shawinigan\n",
      "Processing Record 10 of Set 3 | sheridan\n",
      "Processing Record 11 of Set 3 | suhbaatar\n",
      "Processing Record 12 of Set 3 | celestun\n",
      "Processing Record 13 of Set 3 | codrington\n",
      "Processing Record 14 of Set 3 | albany\n",
      "Processing Record 15 of Set 3 | georgetown\n",
      "Processing Record 16 of Set 3 | turbat\n",
      "Processing Record 17 of Set 3 | isangel\n",
      "Processing Record 18 of Set 3 | bethel\n",
      "Processing Record 19 of Set 3 | bolgatanga\n",
      "Processing Record 20 of Set 3 | whitehorse\n",
      "Processing Record 21 of Set 3 | esperance\n",
      "Processing Record 22 of Set 3 | manggar\n",
      "Processing Record 23 of Set 3 | northam\n",
      "Processing Record 24 of Set 3 | tuatapere\n",
      "Processing Record 25 of Set 3 | hamilton\n",
      "Processing Record 26 of Set 3 | khatanga\n",
      "Processing Record 27 of Set 3 | barrow\n",
      "Processing Record 28 of Set 3 | port hedland\n",
      "Processing Record 29 of Set 3 | lazaro cardenas\n",
      "Processing Record 30 of Set 3 | smithers\n",
      "Processing Record 31 of Set 3 | illoqqortoormiut\n",
      "City not found. Skipping...\n",
      "Processing Record 32 of Set 3 | gdynia\n",
      "Processing Record 33 of Set 3 | puerto ayora\n",
      "Processing Record 34 of Set 3 | chagda\n",
      "City not found. Skipping...\n",
      "Processing Record 35 of Set 3 | port alfred\n",
      "Processing Record 36 of Set 3 | monterey\n",
      "Processing Record 37 of Set 3 | bowen\n",
      "Processing Record 38 of Set 3 | san lazaro\n",
      "Processing Record 39 of Set 3 | kasongo\n",
      "Processing Record 40 of Set 3 | raga\n",
      "Processing Record 41 of Set 3 | saleaula\n",
      "City not found. Skipping...\n",
      "Processing Record 42 of Set 3 | zhigansk\n",
      "Processing Record 43 of Set 3 | souillac\n",
      "Processing Record 44 of Set 3 | melfi\n",
      "Processing Record 45 of Set 3 | sawakin\n",
      "Processing Record 46 of Set 3 | lagoa\n",
      "Processing Record 47 of Set 3 | betsiamites\n",
      "Processing Record 48 of Set 3 | havre-saint-pierre\n",
      "Processing Record 49 of Set 3 | mahibadhoo\n",
      "Processing Record 50 of Set 3 | rybnoye\n",
      "Processing Record 1 of Set 4 | lompoc\n",
      "Processing Record 2 of Set 4 | atuona\n",
      "Processing Record 3 of Set 4 | bilma\n",
      "Processing Record 4 of Set 4 | yelets\n",
      "Processing Record 5 of Set 4 | kuche\n",
      "City not found. Skipping...\n",
      "Processing Record 6 of Set 4 | nosy varika\n",
      "Processing Record 7 of Set 4 | litovko\n",
      "Processing Record 8 of Set 4 | faya\n",
      "Processing Record 9 of Set 4 | singapore\n",
      "Processing Record 10 of Set 4 | ewa beach\n",
      "Processing Record 11 of Set 4 | grindavik\n",
      "Processing Record 12 of Set 4 | venice\n",
      "Processing Record 13 of Set 4 | belawan\n",
      "Processing Record 14 of Set 4 | cockburn town\n",
      "Processing Record 15 of Set 4 | lorengau\n",
      "Processing Record 16 of Set 4 | nanortalik\n",
      "Processing Record 17 of Set 4 | jacareacanga\n",
      "Processing Record 18 of Set 4 | hachinohe\n",
      "Processing Record 19 of Set 4 | mildura\n",
      "Processing Record 20 of Set 4 | mangaratiba\n",
      "Processing Record 21 of Set 4 | kieta\n",
      "Processing Record 22 of Set 4 | keningau\n",
      "Processing Record 23 of Set 4 | puunsi\n",
      "City not found. Skipping...\n",
      "Processing Record 24 of Set 4 | dwarka\n",
      "Processing Record 25 of Set 4 | llandrindod wells\n",
      "Processing Record 26 of Set 4 | san quintin\n",
      "Processing Record 27 of Set 4 | dikson\n",
      "Processing Record 28 of Set 4 | te anau\n",
      "Processing Record 29 of Set 4 | coquimbo\n",
      "Processing Record 30 of Set 4 | sao filipe\n",
      "Processing Record 31 of Set 4 | nome\n",
      "Processing Record 32 of Set 4 | avarua\n",
      "Processing Record 33 of Set 4 | baykit\n",
      "Processing Record 34 of Set 4 | hasaki\n",
      "Processing Record 35 of Set 4 | alice springs\n",
      "Processing Record 36 of Set 4 | nikolskoye\n",
      "Processing Record 37 of Set 4 | bengkulu\n",
      "Processing Record 38 of Set 4 | kununurra\n"
     ]
    },
    {
     "name": "stdout",
     "output_type": "stream",
     "text": [
      "Processing Record 39 of Set 4 | cherskiy\n",
      "Processing Record 40 of Set 4 | port-gentil\n",
      "Processing Record 41 of Set 4 | laguna\n",
      "Processing Record 42 of Set 4 | vila franca do campo\n",
      "Processing Record 43 of Set 4 | bristol\n",
      "Processing Record 44 of Set 4 | doha\n",
      "Processing Record 45 of Set 4 | saint-francois\n",
      "Processing Record 46 of Set 4 | victoria\n",
      "Processing Record 47 of Set 4 | saskylakh\n",
      "Processing Record 48 of Set 4 | elko\n",
      "Processing Record 49 of Set 4 | katherine\n",
      "Processing Record 50 of Set 4 | acapulco\n",
      "Processing Record 1 of Set 5 | buraydah\n",
      "Processing Record 2 of Set 5 | saiha\n",
      "Processing Record 3 of Set 5 | olinda\n",
      "Processing Record 4 of Set 5 | sidi ali\n",
      "Processing Record 5 of Set 5 | sur\n",
      "Processing Record 6 of Set 5 | mar del plata\n",
      "Processing Record 7 of Set 5 | karaul\n",
      "City not found. Skipping...\n",
      "Processing Record 8 of Set 5 | tidore\n",
      "City not found. Skipping...\n",
      "Processing Record 9 of Set 5 | barbar\n",
      "City not found. Skipping...\n",
      "Processing Record 10 of Set 5 | lavrentiya\n",
      "Processing Record 11 of Set 5 | carmo do paranaiba\n",
      "Processing Record 12 of Set 5 | luderitz\n",
      "Processing Record 13 of Set 5 | torbay\n",
      "Processing Record 14 of Set 5 | fortuna\n",
      "Processing Record 15 of Set 5 | chilca\n",
      "Processing Record 16 of Set 5 | monte azul\n",
      "Processing Record 17 of Set 5 | barentsburg\n",
      "City not found. Skipping...\n",
      "Processing Record 18 of Set 5 | kasongo-lunda\n",
      "Processing Record 19 of Set 5 | muros\n",
      "Processing Record 20 of Set 5 | grand river south east\n",
      "City not found. Skipping...\n",
      "Processing Record 21 of Set 5 | manglaur\n",
      "Processing Record 22 of Set 5 | marcona\n",
      "City not found. Skipping...\n",
      "Processing Record 23 of Set 5 | miyako\n",
      "Processing Record 24 of Set 5 | dongsheng\n",
      "Processing Record 25 of Set 5 | marzuq\n",
      "Processing Record 26 of Set 5 | hofn\n",
      "Processing Record 27 of Set 5 | tuktoyaktuk\n",
      "Processing Record 28 of Set 5 | moron\n",
      "Processing Record 29 of Set 5 | paamiut\n",
      "Processing Record 30 of Set 5 | zyryanka\n",
      "Processing Record 31 of Set 5 | tasiilaq\n",
      "Processing Record 32 of Set 5 | espoo\n",
      "Processing Record 33 of Set 5 | lampang\n",
      "Processing Record 34 of Set 5 | ostrovnoy\n",
      "Processing Record 35 of Set 5 | kayseri\n",
      "Processing Record 36 of Set 5 | port blair\n",
      "Processing Record 37 of Set 5 | wembley\n",
      "Processing Record 38 of Set 5 | leningradskiy\n",
      "Processing Record 39 of Set 5 | amga\n",
      "Processing Record 40 of Set 5 | yenagoa\n",
      "Processing Record 41 of Set 5 | richards bay\n",
      "Processing Record 42 of Set 5 | belozerskoye\n",
      "Processing Record 43 of Set 5 | atasu\n",
      "Processing Record 44 of Set 5 | fort nelson\n",
      "Processing Record 45 of Set 5 | henties bay\n",
      "Processing Record 46 of Set 5 | hambantota\n",
      "Processing Record 47 of Set 5 | biak\n",
      "Processing Record 48 of Set 5 | pringsewu\n",
      "Processing Record 49 of Set 5 | fairbanks\n",
      "Processing Record 50 of Set 5 | yerbogachen\n",
      "Processing Record 1 of Set 6 | bandarbeyla\n",
      "Processing Record 2 of Set 6 | a\n",
      "City not found. Skipping...\n",
      "Processing Record 3 of Set 6 | vostok\n",
      "Processing Record 4 of Set 6 | ahipara\n",
      "Processing Record 5 of Set 6 | manuk mangkaw\n",
      "Processing Record 6 of Set 6 | north bend\n",
      "Processing Record 7 of Set 6 | sigerfjord\n",
      "City not found. Skipping...\n",
      "Processing Record 8 of Set 6 | goldsboro\n",
      "Processing Record 9 of Set 6 | panaba\n",
      "Processing Record 10 of Set 6 | chokurdakh\n",
      "Processing Record 11 of Set 6 | karkaralinsk\n",
      "City not found. Skipping...\n",
      "Processing Record 12 of Set 6 | asau\n",
      "Processing Record 13 of Set 6 | brae\n",
      "Processing Record 14 of Set 6 | ayr\n",
      "Processing Record 15 of Set 6 | takaka\n",
      "Processing Record 16 of Set 6 | sakaiminato\n",
      "Processing Record 17 of Set 6 | lowestoft\n",
      "Processing Record 18 of Set 6 | katsuura\n",
      "Processing Record 19 of Set 6 | chuy\n",
      "Processing Record 20 of Set 6 | kesennuma\n",
      "City not found. Skipping...\n",
      "Processing Record 21 of Set 6 | orlovskiy\n",
      "Processing Record 22 of Set 6 | tumannyy\n",
      "City not found. Skipping...\n",
      "Processing Record 23 of Set 6 | vardo\n",
      "Processing Record 24 of Set 6 | itaituba\n",
      "Processing Record 25 of Set 6 | san patricio\n",
      "Processing Record 26 of Set 6 | saint-joseph\n",
      "Processing Record 27 of Set 6 | arlit\n",
      "Processing Record 28 of Set 6 | guerrero negro\n",
      "Processing Record 29 of Set 6 | stournaraiika\n",
      "City not found. Skipping...\n",
      "Processing Record 30 of Set 6 | matara\n",
      "Processing Record 31 of Set 6 | tambul\n",
      "City not found. Skipping...\n",
      "Processing Record 32 of Set 6 | havre de grace\n",
      "Processing Record 33 of Set 6 | yuryuzan\n",
      "Processing Record 34 of Set 6 | byron bay\n",
      "Processing Record 35 of Set 6 | terrell\n",
      "Processing Record 36 of Set 6 | portland\n",
      "Processing Record 37 of Set 6 | saldanha\n",
      "Processing Record 38 of Set 6 | buckeye\n",
      "Processing Record 39 of Set 6 | galiwinku\n",
      "City not found. Skipping...\n",
      "Processing Record 40 of Set 6 | taraz\n",
      "Processing Record 41 of Set 6 | paramonga\n",
      "Processing Record 42 of Set 6 | vao\n",
      "Processing Record 43 of Set 6 | vanimo\n",
      "Processing Record 44 of Set 6 | norman wells\n",
      "Processing Record 45 of Set 6 | belushya guba\n",
      "City not found. Skipping...\n",
      "Processing Record 46 of Set 6 | santo antonio do leverger\n",
      "Processing Record 47 of Set 6 | grand gaube\n",
      "Processing Record 48 of Set 6 | pokrovka\n",
      "Processing Record 49 of Set 6 | paradwip\n",
      "City not found. Skipping...\n",
      "Processing Record 50 of Set 6 | lufilufi\n",
      "Processing Record 1 of Set 7 | murovane\n",
      "Processing Record 2 of Set 7 | bonavista\n",
      "Processing Record 3 of Set 7 | aykhal\n",
      "Processing Record 4 of Set 7 | kamloops\n",
      "Processing Record 5 of Set 7 | jingdezhen\n",
      "Processing Record 6 of Set 7 | visnes\n",
      "Processing Record 7 of Set 7 | attawapiskat\n",
      "City not found. Skipping...\n",
      "Processing Record 8 of Set 7 | belyy yar\n",
      "Processing Record 9 of Set 7 | petropavlovsk-kamchatskiy\n",
      "Processing Record 10 of Set 7 | bathsheba\n",
      "Processing Record 11 of Set 7 | half moon bay\n",
      "Processing Record 12 of Set 7 | tres picos\n",
      "Processing Record 13 of Set 7 | juifang\n",
      "City not found. Skipping...\n",
      "Processing Record 14 of Set 7 | kodiak\n",
      "Processing Record 15 of Set 7 | bentiu\n",
      "Processing Record 16 of Set 7 | raahe\n",
      "Processing Record 17 of Set 7 | kalabo\n",
      "Processing Record 18 of Set 7 | dudinka\n",
      "Processing Record 19 of Set 7 | asosa\n",
      "Processing Record 20 of Set 7 | pangnirtung\n",
      "Processing Record 21 of Set 7 | talara\n",
      "Processing Record 22 of Set 7 | makasar\n",
      "Processing Record 23 of Set 7 | ardistan\n",
      "City not found. Skipping...\n",
      "Processing Record 24 of Set 7 | itoman\n",
      "Processing Record 25 of Set 7 | tiksi\n",
      "Processing Record 26 of Set 7 | ulaanbaatar\n",
      "Processing Record 27 of Set 7 | qaqortoq\n",
      "Processing Record 28 of Set 7 | tilbury\n",
      "Processing Record 29 of Set 7 | kruisfontein\n",
      "Processing Record 30 of Set 7 | porto nacional\n",
      "Processing Record 31 of Set 7 | carutapera\n",
      "Processing Record 32 of Set 7 | saint-pierre\n",
      "Processing Record 33 of Set 7 | salalah\n",
      "Processing Record 34 of Set 7 | pevek\n",
      "Processing Record 35 of Set 7 | lang son\n",
      "Processing Record 36 of Set 7 | jalu\n",
      "Processing Record 37 of Set 7 | mrirt\n",
      "City not found. Skipping...\n",
      "Processing Record 38 of Set 7 | kinkala\n",
      "Processing Record 39 of Set 7 | nsanje\n",
      "Processing Record 40 of Set 7 | kaeo\n",
      "Processing Record 41 of Set 7 | iracoubo\n",
      "Processing Record 42 of Set 7 | noshiro\n",
      "Processing Record 43 of Set 7 | yulara\n",
      "Processing Record 44 of Set 7 | sakakah\n",
      "Processing Record 45 of Set 7 | abha\n",
      "Processing Record 46 of Set 7 | coahuayana\n",
      "Processing Record 47 of Set 7 | mecca\n",
      "Processing Record 48 of Set 7 | vestmannaeyjar\n",
      "Processing Record 49 of Set 7 | washougal\n",
      "Processing Record 50 of Set 7 | daura\n",
      "Processing Record 1 of Set 8 | el cobre\n",
      "Processing Record 2 of Set 8 | silifke\n",
      "Processing Record 3 of Set 8 | samusu\n",
      "City not found. Skipping...\n",
      "Processing Record 4 of Set 8 | tual\n",
      "Processing Record 5 of Set 8 | ambon\n",
      "Processing Record 6 of Set 8 | cotabato\n",
      "Processing Record 7 of Set 8 | tobol\n",
      "Processing Record 8 of Set 8 | taoudenni\n",
      "Processing Record 9 of Set 8 | sungairaya\n",
      "Processing Record 10 of Set 8 | chernyshevsk\n",
      "Processing Record 11 of Set 8 | nantucket\n",
      "Processing Record 12 of Set 8 | turukhansk\n",
      "Processing Record 13 of Set 8 | yeletskiy\n",
      "City not found. Skipping...\n",
      "Processing Record 14 of Set 8 | palmer\n",
      "Processing Record 15 of Set 8 | puerto madryn\n",
      "Processing Record 16 of Set 8 | ciudad bolivar\n",
      "Processing Record 17 of Set 8 | honningsvag\n",
      "Processing Record 18 of Set 8 | ust-kulom\n",
      "Processing Record 19 of Set 8 | baymak\n",
      "Processing Record 20 of Set 8 | san pedro de macoris\n",
      "Processing Record 21 of Set 8 | port-de-paix\n",
      "City not found. Skipping...\n",
      "Processing Record 22 of Set 8 | port hardy\n"
     ]
    },
    {
     "name": "stdout",
     "output_type": "stream",
     "text": [
      "Processing Record 23 of Set 8 | aksarka\n",
      "Processing Record 24 of Set 8 | piotrkow trybunalski\n",
      "Processing Record 25 of Set 8 | barguzin\n",
      "Processing Record 26 of Set 8 | hellin\n",
      "Processing Record 27 of Set 8 | concordia\n",
      "Processing Record 28 of Set 8 | fukuma\n",
      "Processing Record 29 of Set 8 | pemberton\n",
      "Processing Record 30 of Set 8 | praya\n",
      "Processing Record 31 of Set 8 | kavieng\n",
      "Processing Record 32 of Set 8 | nouadhibou\n",
      "Processing Record 33 of Set 8 | tevaitoa\n",
      "Processing Record 34 of Set 8 | coolum beach\n",
      "Processing Record 35 of Set 8 | mahebourg\n",
      "Processing Record 36 of Set 8 | agua dulce\n",
      "Processing Record 37 of Set 8 | zonguldak\n",
      "Processing Record 38 of Set 8 | juba\n",
      "Processing Record 39 of Set 8 | yurga\n",
      "Processing Record 40 of Set 8 | great yarmouth\n",
      "Processing Record 41 of Set 8 | abu samrah\n",
      "Processing Record 42 of Set 8 | pingxiang\n",
      "Processing Record 43 of Set 8 | sayaxche\n",
      "Processing Record 44 of Set 8 | roebourne\n",
      "Processing Record 45 of Set 8 | kuito\n",
      "Processing Record 46 of Set 8 | taltal\n",
      "Processing Record 47 of Set 8 | lubao\n",
      "Processing Record 48 of Set 8 | yerkoy\n",
      "Processing Record 49 of Set 8 | urumqi\n",
      "Processing Record 50 of Set 8 | constitucion\n",
      "Processing Record 1 of Set 9 | moree\n",
      "Processing Record 2 of Set 9 | necochea\n",
      "Processing Record 3 of Set 9 | cabo san lucas\n",
      "Processing Record 4 of Set 9 | sombrerete\n",
      "Processing Record 5 of Set 9 | shimanovsk\n",
      "Processing Record 6 of Set 9 | skjervoy\n",
      "Processing Record 7 of Set 9 | tutoia\n",
      "Processing Record 8 of Set 9 | sisimiut\n",
      "Processing Record 9 of Set 9 | neijiang\n",
      "Processing Record 10 of Set 9 | surt\n",
      "Processing Record 11 of Set 9 | yar-sale\n",
      "Processing Record 12 of Set 9 | faanui\n",
      "Processing Record 13 of Set 9 | narsaq\n",
      "Processing Record 14 of Set 9 | khorramshahr\n",
      "Processing Record 15 of Set 9 | mabini\n",
      "Processing Record 16 of Set 9 | quesnel\n",
      "Processing Record 17 of Set 9 | nikolsk\n",
      "Processing Record 18 of Set 9 | eyl\n",
      "Processing Record 19 of Set 9 | kavaratti\n",
      "Processing Record 20 of Set 9 | bratsk\n",
      "Processing Record 21 of Set 9 | colares\n",
      "Processing Record 22 of Set 9 | canguaretama\n",
      "Processing Record 23 of Set 9 | sterling\n",
      "Processing Record 24 of Set 9 | touros\n",
      "Processing Record 25 of Set 9 | rawannawi\n",
      "City not found. Skipping...\n",
      "Processing Record 26 of Set 9 | tacuarembo\n",
      "Processing Record 27 of Set 9 | hualmay\n",
      "Processing Record 28 of Set 9 | valera\n",
      "Processing Record 29 of Set 9 | paita\n",
      "Processing Record 30 of Set 9 | sebring\n",
      "Processing Record 31 of Set 9 | eirunepe\n",
      "Processing Record 32 of Set 9 | san luis obispo\n",
      "Processing Record 33 of Set 9 | nortelandia\n",
      "Processing Record 34 of Set 9 | padang\n",
      "Processing Record 35 of Set 9 | poum\n",
      "Processing Record 36 of Set 9 | dawson\n",
      "Processing Record 37 of Set 9 | wenling\n",
      "Processing Record 38 of Set 9 | ponta delgada\n",
      "Processing Record 39 of Set 9 | sahrak\n",
      "City not found. Skipping...\n",
      "Processing Record 40 of Set 9 | kayerkan\n",
      "Processing Record 41 of Set 9 | okhotsk\n",
      "Processing Record 42 of Set 9 | lensk\n",
      "Processing Record 43 of Set 9 | mendahara\n",
      "City not found. Skipping...\n",
      "Processing Record 44 of Set 9 | ostroda\n",
      "Processing Record 45 of Set 9 | port macquarie\n",
      "Processing Record 46 of Set 9 | progreso\n",
      "Processing Record 47 of Set 9 | krasnoselkup\n",
      "Processing Record 48 of Set 9 | berlevag\n",
      "Processing Record 49 of Set 9 | kahului\n",
      "Processing Record 50 of Set 9 | atar\n",
      "Processing Record 1 of Set 10 | artyom\n",
      "Processing Record 2 of Set 10 | salisbury\n",
      "Processing Record 3 of Set 10 | pudozh\n",
      "Processing Record 4 of Set 10 | samarai\n",
      "Processing Record 5 of Set 10 | port augusta\n",
      "Processing Record 6 of Set 10 | pozo colorado\n",
      "Processing Record 7 of Set 10 | scarborough\n",
      "Processing Record 8 of Set 10 | aflu\n",
      "City not found. Skipping...\n",
      "Processing Record 9 of Set 10 | atambua\n",
      "Processing Record 10 of Set 10 | kargala\n",
      "Processing Record 11 of Set 10 | hengshui\n",
      "Processing Record 12 of Set 10 | lagos\n",
      "Processing Record 13 of Set 10 | piedra gorda\n",
      "Processing Record 14 of Set 10 | scottsbluff\n",
      "Processing Record 15 of Set 10 | kyshtovka\n",
      "Processing Record 16 of Set 10 | brentwood\n",
      "Processing Record 17 of Set 10 | nampula\n",
      "Processing Record 18 of Set 10 | la ronge\n",
      "Processing Record 19 of Set 10 | najran\n",
      "Processing Record 20 of Set 10 | ceres\n",
      "Processing Record 21 of Set 10 | birin\n",
      "Processing Record 22 of Set 10 | comodoro rivadavia\n",
      "Processing Record 23 of Set 10 | el alto\n",
      "Processing Record 24 of Set 10 | saint-augustin\n",
      "Processing Record 25 of Set 10 | olafsvik\n",
      "Processing Record 26 of Set 10 | yangambi\n",
      "Processing Record 27 of Set 10 | daru\n",
      "Processing Record 28 of Set 10 | port lincoln\n",
      "Processing Record 29 of Set 10 | bilibino\n",
      "Processing Record 30 of Set 10 | yangcun\n",
      "Processing Record 31 of Set 10 | luba\n",
      "Processing Record 32 of Set 10 | longyearbyen\n",
      "Processing Record 33 of Set 10 | ialibu\n",
      "Processing Record 34 of Set 10 | pascagoula\n",
      "Processing Record 35 of Set 10 | koboko\n",
      "Processing Record 36 of Set 10 | shingu\n",
      "Processing Record 37 of Set 10 | nuzvid\n",
      "Processing Record 38 of Set 10 | dakar\n",
      "Processing Record 39 of Set 10 | issia\n",
      "Processing Record 40 of Set 10 | phan thiet\n",
      "Processing Record 41 of Set 10 | zaltan\n",
      "Processing Record 42 of Set 10 | auki\n",
      "Processing Record 43 of Set 10 | mount isa\n",
      "Processing Record 44 of Set 10 | inta\n",
      "Processing Record 45 of Set 10 | kharp\n",
      "Processing Record 46 of Set 10 | vengerovo\n",
      "Processing Record 47 of Set 10 | labrea\n",
      "Processing Record 48 of Set 10 | paithan\n",
      "Processing Record 49 of Set 10 | belorechensk\n",
      "Processing Record 50 of Set 10 | hervey bay\n",
      "Processing Record 1 of Set 11 | jammalamadugu\n",
      "Processing Record 2 of Set 11 | ishigaki\n",
      "Processing Record 3 of Set 11 | san vicente\n",
      "Processing Record 4 of Set 11 | kirakira\n",
      "Processing Record 5 of Set 11 | umzimvubu\n",
      "City not found. Skipping...\n",
      "Processing Record 6 of Set 11 | maceio\n",
      "Processing Record 7 of Set 11 | cayenne\n",
      "Processing Record 8 of Set 11 | coihaique\n",
      "Processing Record 9 of Set 11 | vuktyl\n",
      "Processing Record 10 of Set 11 | tabiauea\n",
      "City not found. Skipping...\n",
      "Processing Record 11 of Set 11 | mormugao\n",
      "Processing Record 12 of Set 11 | tuy hoa\n",
      "Processing Record 13 of Set 11 | krasnoyarskiy\n",
      "Processing Record 14 of Set 11 | cabedelo\n",
      "Processing Record 15 of Set 11 | mount gambier\n",
      "Processing Record 16 of Set 11 | kenai\n",
      "Processing Record 17 of Set 11 | rio gallegos\n",
      "Processing Record 18 of Set 11 | lar\n",
      "Processing Record 19 of Set 11 | izhmorskiy\n",
      "Processing Record 20 of Set 11 | caravelas\n",
      "Processing Record 21 of Set 11 | pacific grove\n",
      "Processing Record 22 of Set 11 | waipawa\n",
      "Processing Record 23 of Set 11 | orgun\n",
      "City not found. Skipping...\n",
      "Processing Record 24 of Set 11 | buenos aires\n",
      "Processing Record 25 of Set 11 | sechura\n",
      "Processing Record 26 of Set 11 | rathdrum\n",
      "Processing Record 27 of Set 11 | vrede\n",
      "Processing Record 28 of Set 11 | jurado\n",
      "Processing Record 29 of Set 11 | anchorage\n",
      "Processing Record 30 of Set 11 | skalistyy\n",
      "City not found. Skipping...\n",
      "Processing Record 31 of Set 11 | ugoofaaru\n",
      "Processing Record 32 of Set 11 | bintulu\n",
      "Processing Record 33 of Set 11 | areka\n",
      "Processing Record 34 of Set 11 | mezen\n",
      "Processing Record 35 of Set 11 | vodnyy\n",
      "Processing Record 36 of Set 11 | gorontalo\n",
      "Processing Record 37 of Set 11 | shivrajpur\n",
      "Processing Record 38 of Set 11 | soyo\n",
      "Processing Record 39 of Set 11 | mackay\n",
      "Processing Record 40 of Set 11 | nemuro\n",
      "Processing Record 41 of Set 11 | nichinan\n",
      "Processing Record 42 of Set 11 | eyrarbakki\n",
      "Processing Record 43 of Set 11 | los llanos de aridane\n",
      "Processing Record 44 of Set 11 | durres\n",
      "Processing Record 45 of Set 11 | loa janan\n",
      "Processing Record 46 of Set 11 | batagay-alyta\n",
      "Processing Record 47 of Set 11 | tezu\n",
      "Processing Record 48 of Set 11 | pavilosta\n",
      "Processing Record 49 of Set 11 | azimur\n",
      "City not found. Skipping...\n",
      "Processing Record 50 of Set 11 | hemnesberget\n",
      "Processing Record 1 of Set 12 | tornio\n",
      "Processing Record 2 of Set 12 | gushikawa\n",
      "Processing Record 3 of Set 12 | srednekolymsk\n",
      "Processing Record 4 of Set 12 | villarrica\n",
      "Processing Record 5 of Set 12 | forestville\n",
      "Processing Record 6 of Set 12 | samarkand\n",
      "Processing Record 7 of Set 12 | almaznyy\n",
      "Processing Record 8 of Set 12 | nayoro\n",
      "Processing Record 9 of Set 12 | ilhabela\n",
      "Processing Record 10 of Set 12 | ust-uda\n",
      "Processing Record 11 of Set 12 | leninskoye\n",
      "Processing Record 12 of Set 12 | makakilo city\n",
      "Processing Record 13 of Set 12 | redmond\n",
      "Processing Record 14 of Set 12 | mehamn\n"
     ]
    },
    {
     "name": "stdout",
     "output_type": "stream",
     "text": [
      "Processing Record 15 of Set 12 | bata\n",
      "Processing Record 16 of Set 12 | zhanaozen\n",
      "Processing Record 17 of Set 12 | mill creek\n",
      "Processing Record 18 of Set 12 | kloulklubed\n",
      "Processing Record 19 of Set 12 | husavik\n",
      "Processing Record 20 of Set 12 | chicama\n",
      "Processing Record 21 of Set 12 | utiroa\n",
      "City not found. Skipping...\n",
      "Processing Record 22 of Set 12 | angoram\n",
      "Processing Record 23 of Set 12 | margate\n",
      "Processing Record 24 of Set 12 | bubaque\n",
      "Processing Record 25 of Set 12 | fengrun\n",
      "Processing Record 26 of Set 12 | charagua\n",
      "Processing Record 27 of Set 12 | manadhoo\n",
      "Processing Record 28 of Set 12 | neryungri\n",
      "Processing Record 29 of Set 12 | chapleau\n",
      "Processing Record 30 of Set 12 | aklavik\n",
      "Processing Record 31 of Set 12 | elizabeth city\n",
      "Processing Record 32 of Set 12 | kisaran\n",
      "Processing Record 33 of Set 12 | maykain\n",
      "City not found. Skipping...\n",
      "Processing Record 34 of Set 12 | quzhou\n",
      "Processing Record 35 of Set 12 | coari\n",
      "Processing Record 36 of Set 12 | prince rupert\n",
      "Processing Record 37 of Set 12 | boddam\n",
      "Processing Record 38 of Set 12 | mahdasht\n",
      "Processing Record 39 of Set 12 | evensk\n",
      "Processing Record 40 of Set 12 | mikhaylovka\n",
      "Processing Record 41 of Set 12 | yarmouth\n",
      "Processing Record 42 of Set 12 | chumikan\n",
      "Processing Record 43 of Set 12 | santa cruz\n",
      "Processing Record 44 of Set 12 | port saint lucie\n",
      "Processing Record 45 of Set 12 | mamakan\n",
      "Processing Record 46 of Set 12 | vila velha\n",
      "Processing Record 47 of Set 12 | severnoye\n",
      "Processing Record 48 of Set 12 | barra do garcas\n",
      "Processing Record 49 of Set 12 | buluang\n",
      "Processing Record 50 of Set 12 | salinopolis\n",
      "Processing Record 1 of Set 13 | tabialan\n",
      "City not found. Skipping...\n",
      "Processing Record 2 of Set 13 | karratha\n",
      "Processing Record 3 of Set 13 | hohhot\n",
      "Processing Record 4 of Set 13 | porto novo\n",
      "Processing Record 5 of Set 13 | naruja\n",
      "Processing Record 6 of Set 13 | halalo\n",
      "City not found. Skipping...\n",
      "Processing Record 7 of Set 13 | bekhteyevka\n",
      "Processing Record 8 of Set 13 | pucallpa\n",
      "Processing Record 9 of Set 13 | bagdarin\n",
      "Processing Record 10 of Set 13 | uthal\n",
      "-----------------------------\n",
      "Data Retrieval Complete      \n",
      "-----------------------------\n"
     ]
    }
   ],
   "source": [
    "# Create an empty list to hold the weather data.\n",
    "city_data = []\n",
    "# Print the beginning of the logging.\n",
    "print(\"Beginning Data Retrieval     \")\n",
    "print(\"-----------------------------\")\n",
    "\n",
    "# Create counters.\n",
    "record_count = 1\n",
    "set_count = 1\n",
    "\n",
    "# Loop through all the cities in the list.\n",
    "for i, city in enumerate(cities):\n",
    "\n",
    "    # Group cities in sets of 50 for logging purposes.\n",
    "    if (i % 50 == 0 and i >= 50):\n",
    "        set_count += 1\n",
    "        record_count = 1\n",
    "    # Create endpoint URL with each city.\n",
    "    city_url = url + \"&q=\" + city.replace(\" \",\"+\")\n",
    "\n",
    "    # Log the URL, record, and set numbers and the city.\n",
    "    print(f\"Processing Record {record_count} of Set {set_count} | {city}\")\n",
    "    # Add 1 to the record count.\n",
    "    record_count += 1\n",
    "    \n",
    "# Run an API request for each of the cities.\n",
    "    try:\n",
    "        # Parse the JSON and retrieve data.\n",
    "        city_weather = requests.get(city_url).json()\n",
    "        # Parse out the needed data.\n",
    "        city_lat = city_weather[\"coord\"][\"lat\"]\n",
    "        city_lng = city_weather[\"coord\"][\"lon\"]\n",
    "        city_max_temp = city_weather[\"main\"][\"temp_max\"]\n",
    "        city_humidity = city_weather[\"main\"][\"humidity\"]\n",
    "        city_clouds = city_weather[\"clouds\"][\"all\"]\n",
    "        city_wind = city_weather[\"wind\"][\"speed\"]\n",
    "        city_country = city_weather[\"sys\"][\"country\"]\n",
    "        # Convert the date to ISO standard.\n",
    "        city_date = datetime.utcfromtimestamp(city_weather[\"dt\"]).strftime('%Y-%m-%d %H:%M:%S')\n",
    "        # Append the city information into city_data list.\n",
    "        city_data.append({\"City\": city.title(),\n",
    "                          \"Lat\": city_lat,\n",
    "                          \"Lng\": city_lng,\n",
    "                          \"Max Temp\": city_max_temp,\n",
    "                          \"Humidity\": city_humidity,\n",
    "                          \"Cloudiness\": city_clouds,\n",
    "                          \"Wind Speed\": city_wind,\n",
    "                          \"Country\": city_country,\n",
    "                          \"Date\": city_date})\n",
    "\n",
    "# If an error is experienced, skip the city.\n",
    "    except:\n",
    "        print(\"City not found. Skipping...\")\n",
    "        pass\n",
    "\n",
    "# Indicate that Data Loading is complete.\n",
    "print(\"-----------------------------\")\n",
    "print(\"Data Retrieval Complete      \")\n",
    "print(\"-----------------------------\")"
   ]
  },
  {
   "cell_type": "code",
   "execution_count": 39,
   "metadata": {},
   "outputs": [
    {
     "data": {
      "text/plain": [
       "558"
      ]
     },
     "execution_count": 39,
     "metadata": {},
     "output_type": "execute_result"
    }
   ],
   "source": [
    "# After collecting all our data, we can tally the number of cities in the city_data array of dictionaries using the \n",
    "# len() function.\n",
    "\n",
    "len(city_data)"
   ]
  },
  {
   "cell_type": "code",
   "execution_count": null,
   "metadata": {},
   "outputs": [],
   "source": [
    "# If you didn't get more than 500 cities, run the code to generate random latitude and longitude combinations and all \n",
    "# the code below it. Or increase the size of the latitude and longitude combinations.\n"
   ]
  },
  {
   "cell_type": "code",
   "execution_count": null,
   "metadata": {},
   "outputs": [],
   "source": [
    "# 6.2.7 Create a DataFrame of City Weather Data\n",
    "\n",
    "# You have the data in a list of dictionaries, which is a format that you can use to create a Pandas DataFrame. \n",
    "# You will also need to export the DataFrame as a CSV file"
   ]
  },
  {
   "cell_type": "code",
   "execution_count": null,
   "metadata": {},
   "outputs": [],
   "source": [
    "# Our next steps will entail converting the array of dictionaries to a DataFrame, ensuring the columns are in the \n",
    "# correct order, and exporting the DataFrame to a comma-separated (CSV) file.\n"
   ]
  },
  {
   "cell_type": "code",
   "execution_count": null,
   "metadata": {},
   "outputs": [],
   "source": [
    "# Recall that we can convert a list of dictionaries to a Pandas DataFrame using \n",
    "# df = pd.DataFrame(list with dictionaries)."
   ]
  },
  {
   "cell_type": "code",
   "execution_count": null,
   "metadata": {},
   "outputs": [],
   "source": [
    "# In a new cell, add the following code to convert the array of dictionaries to a Pandas DataFrame and run the cell."
   ]
  },
  {
   "cell_type": "code",
   "execution_count": 45,
   "metadata": {},
   "outputs": [
    {
     "data": {
      "text/html": [
       "<div>\n",
       "<style scoped>\n",
       "    .dataframe tbody tr th:only-of-type {\n",
       "        vertical-align: middle;\n",
       "    }\n",
       "\n",
       "    .dataframe tbody tr th {\n",
       "        vertical-align: top;\n",
       "    }\n",
       "\n",
       "    .dataframe thead th {\n",
       "        text-align: right;\n",
       "    }\n",
       "</style>\n",
       "<table border=\"1\" class=\"dataframe\">\n",
       "  <thead>\n",
       "    <tr style=\"text-align: right;\">\n",
       "      <th></th>\n",
       "      <th>City</th>\n",
       "      <th>Lat</th>\n",
       "      <th>Lng</th>\n",
       "      <th>Max Temp</th>\n",
       "      <th>Humidity</th>\n",
       "      <th>Cloudiness</th>\n",
       "      <th>Wind Speed</th>\n",
       "      <th>Country</th>\n",
       "      <th>Date</th>\n",
       "    </tr>\n",
       "  </thead>\n",
       "  <tbody>\n",
       "    <tr>\n",
       "      <th>0</th>\n",
       "      <td>Piacabucu</td>\n",
       "      <td>-10.41</td>\n",
       "      <td>-36.43</td>\n",
       "      <td>76.12</td>\n",
       "      <td>77</td>\n",
       "      <td>0</td>\n",
       "      <td>9.91</td>\n",
       "      <td>BR</td>\n",
       "      <td>2020-11-12 00:04:06</td>\n",
       "    </tr>\n",
       "    <tr>\n",
       "      <th>1</th>\n",
       "      <td>Inuvik</td>\n",
       "      <td>68.35</td>\n",
       "      <td>-133.72</td>\n",
       "      <td>5.00</td>\n",
       "      <td>71</td>\n",
       "      <td>22</td>\n",
       "      <td>5.82</td>\n",
       "      <td>CA</td>\n",
       "      <td>2020-11-12 00:04:06</td>\n",
       "    </tr>\n",
       "    <tr>\n",
       "      <th>2</th>\n",
       "      <td>Jamestown</td>\n",
       "      <td>42.10</td>\n",
       "      <td>-79.24</td>\n",
       "      <td>48.99</td>\n",
       "      <td>87</td>\n",
       "      <td>1</td>\n",
       "      <td>10.29</td>\n",
       "      <td>US</td>\n",
       "      <td>2020-11-12 00:03:44</td>\n",
       "    </tr>\n",
       "    <tr>\n",
       "      <th>3</th>\n",
       "      <td>Yuli</td>\n",
       "      <td>9.70</td>\n",
       "      <td>10.27</td>\n",
       "      <td>75.61</td>\n",
       "      <td>34</td>\n",
       "      <td>10</td>\n",
       "      <td>5.59</td>\n",
       "      <td>NG</td>\n",
       "      <td>2020-11-12 00:04:07</td>\n",
       "    </tr>\n",
       "    <tr>\n",
       "      <th>4</th>\n",
       "      <td>Namie</td>\n",
       "      <td>37.48</td>\n",
       "      <td>141.00</td>\n",
       "      <td>51.01</td>\n",
       "      <td>57</td>\n",
       "      <td>0</td>\n",
       "      <td>3.80</td>\n",
       "      <td>JP</td>\n",
       "      <td>2020-11-12 00:04:07</td>\n",
       "    </tr>\n",
       "    <tr>\n",
       "      <th>5</th>\n",
       "      <td>Teo</td>\n",
       "      <td>42.75</td>\n",
       "      <td>-8.50</td>\n",
       "      <td>55.99</td>\n",
       "      <td>87</td>\n",
       "      <td>75</td>\n",
       "      <td>11.41</td>\n",
       "      <td>ES</td>\n",
       "      <td>2020-11-12 00:04:07</td>\n",
       "    </tr>\n",
       "    <tr>\n",
       "      <th>6</th>\n",
       "      <td>Bambous Virieux</td>\n",
       "      <td>-20.34</td>\n",
       "      <td>57.76</td>\n",
       "      <td>73.99</td>\n",
       "      <td>83</td>\n",
       "      <td>40</td>\n",
       "      <td>6.93</td>\n",
       "      <td>MU</td>\n",
       "      <td>2020-11-12 00:04:07</td>\n",
       "    </tr>\n",
       "    <tr>\n",
       "      <th>7</th>\n",
       "      <td>Kaitangata</td>\n",
       "      <td>-46.28</td>\n",
       "      <td>169.85</td>\n",
       "      <td>64.00</td>\n",
       "      <td>52</td>\n",
       "      <td>72</td>\n",
       "      <td>8.01</td>\n",
       "      <td>NZ</td>\n",
       "      <td>2020-11-12 00:04:08</td>\n",
       "    </tr>\n",
       "    <tr>\n",
       "      <th>8</th>\n",
       "      <td>Mataura</td>\n",
       "      <td>-46.19</td>\n",
       "      <td>168.86</td>\n",
       "      <td>57.00</td>\n",
       "      <td>78</td>\n",
       "      <td>95</td>\n",
       "      <td>15.99</td>\n",
       "      <td>NZ</td>\n",
       "      <td>2020-11-12 00:04:08</td>\n",
       "    </tr>\n",
       "    <tr>\n",
       "      <th>9</th>\n",
       "      <td>Cape Town</td>\n",
       "      <td>-33.93</td>\n",
       "      <td>18.42</td>\n",
       "      <td>63.00</td>\n",
       "      <td>82</td>\n",
       "      <td>0</td>\n",
       "      <td>2.24</td>\n",
       "      <td>ZA</td>\n",
       "      <td>2020-11-12 00:03:05</td>\n",
       "    </tr>\n",
       "  </tbody>\n",
       "</table>\n",
       "</div>"
      ],
      "text/plain": [
       "              City    Lat     Lng  Max Temp  Humidity  Cloudiness  Wind Speed  \\\n",
       "0        Piacabucu -10.41  -36.43     76.12        77           0        9.91   \n",
       "1           Inuvik  68.35 -133.72      5.00        71          22        5.82   \n",
       "2        Jamestown  42.10  -79.24     48.99        87           1       10.29   \n",
       "3             Yuli   9.70   10.27     75.61        34          10        5.59   \n",
       "4            Namie  37.48  141.00     51.01        57           0        3.80   \n",
       "5              Teo  42.75   -8.50     55.99        87          75       11.41   \n",
       "6  Bambous Virieux -20.34   57.76     73.99        83          40        6.93   \n",
       "7       Kaitangata -46.28  169.85     64.00        52          72        8.01   \n",
       "8          Mataura -46.19  168.86     57.00        78          95       15.99   \n",
       "9        Cape Town -33.93   18.42     63.00        82           0        2.24   \n",
       "\n",
       "  Country                 Date  \n",
       "0      BR  2020-11-12 00:04:06  \n",
       "1      CA  2020-11-12 00:04:06  \n",
       "2      US  2020-11-12 00:03:44  \n",
       "3      NG  2020-11-12 00:04:07  \n",
       "4      JP  2020-11-12 00:04:07  \n",
       "5      ES  2020-11-12 00:04:07  \n",
       "6      MU  2020-11-12 00:04:07  \n",
       "7      NZ  2020-11-12 00:04:08  \n",
       "8      NZ  2020-11-12 00:04:08  \n",
       "9      ZA  2020-11-12 00:03:05  "
      ]
     },
     "execution_count": 45,
     "metadata": {},
     "output_type": "execute_result"
    }
   ],
   "source": [
    "# Convert the array of dictionaries to a Pandas DataFrame.\n",
    "city_data_df = pd.DataFrame(city_data)\n",
    "city_data_df.head(10)"
   ]
  },
  {
   "cell_type": "code",
   "execution_count": 46,
   "metadata": {},
   "outputs": [],
   "source": [
    "# Next, we'll reorder the columns as City, Country, Date, Lat, Lng, Max Temp, Humidity, Cloudiness, and Wind Speed, \n",
    "# so they are easy to read.\n"
   ]
  },
  {
   "cell_type": "code",
   "execution_count": 48,
   "metadata": {},
   "outputs": [],
   "source": [
    "# Recall that to reorder the columns, we assign a variable to an array of the columns in the order we want them to \n",
    "# appear:\n",
    "\n",
    "# new_column_order = [\"column2\", \"column4\", \"column1\"]\n",
    "\n",
    "# Then, we assign a new or the same DataFrame with new column order:\n",
    "\n",
    "# df = df[new_column_order]\n"
   ]
  },
  {
   "cell_type": "code",
   "execution_count": 51,
   "metadata": {},
   "outputs": [
    {
     "data": {
      "text/html": [
       "<div>\n",
       "<style scoped>\n",
       "    .dataframe tbody tr th:only-of-type {\n",
       "        vertical-align: middle;\n",
       "    }\n",
       "\n",
       "    .dataframe tbody tr th {\n",
       "        vertical-align: top;\n",
       "    }\n",
       "\n",
       "    .dataframe thead th {\n",
       "        text-align: right;\n",
       "    }\n",
       "</style>\n",
       "<table border=\"1\" class=\"dataframe\">\n",
       "  <thead>\n",
       "    <tr style=\"text-align: right;\">\n",
       "      <th></th>\n",
       "      <th>City</th>\n",
       "      <th>Country</th>\n",
       "      <th>Date</th>\n",
       "      <th>Lat</th>\n",
       "      <th>Lng</th>\n",
       "      <th>Max Temp</th>\n",
       "      <th>Humidity</th>\n",
       "      <th>Cloudiness</th>\n",
       "      <th>Wind Speed</th>\n",
       "    </tr>\n",
       "  </thead>\n",
       "  <tbody>\n",
       "    <tr>\n",
       "      <th>0</th>\n",
       "      <td>Piacabucu</td>\n",
       "      <td>BR</td>\n",
       "      <td>2020-11-12 00:04:06</td>\n",
       "      <td>-10.41</td>\n",
       "      <td>-36.43</td>\n",
       "      <td>76.12</td>\n",
       "      <td>77</td>\n",
       "      <td>0</td>\n",
       "      <td>9.91</td>\n",
       "    </tr>\n",
       "    <tr>\n",
       "      <th>1</th>\n",
       "      <td>Inuvik</td>\n",
       "      <td>CA</td>\n",
       "      <td>2020-11-12 00:04:06</td>\n",
       "      <td>68.35</td>\n",
       "      <td>-133.72</td>\n",
       "      <td>5.00</td>\n",
       "      <td>71</td>\n",
       "      <td>22</td>\n",
       "      <td>5.82</td>\n",
       "    </tr>\n",
       "    <tr>\n",
       "      <th>2</th>\n",
       "      <td>Jamestown</td>\n",
       "      <td>US</td>\n",
       "      <td>2020-11-12 00:03:44</td>\n",
       "      <td>42.10</td>\n",
       "      <td>-79.24</td>\n",
       "      <td>48.99</td>\n",
       "      <td>87</td>\n",
       "      <td>1</td>\n",
       "      <td>10.29</td>\n",
       "    </tr>\n",
       "    <tr>\n",
       "      <th>3</th>\n",
       "      <td>Yuli</td>\n",
       "      <td>NG</td>\n",
       "      <td>2020-11-12 00:04:07</td>\n",
       "      <td>9.70</td>\n",
       "      <td>10.27</td>\n",
       "      <td>75.61</td>\n",
       "      <td>34</td>\n",
       "      <td>10</td>\n",
       "      <td>5.59</td>\n",
       "    </tr>\n",
       "    <tr>\n",
       "      <th>4</th>\n",
       "      <td>Namie</td>\n",
       "      <td>JP</td>\n",
       "      <td>2020-11-12 00:04:07</td>\n",
       "      <td>37.48</td>\n",
       "      <td>141.00</td>\n",
       "      <td>51.01</td>\n",
       "      <td>57</td>\n",
       "      <td>0</td>\n",
       "      <td>3.80</td>\n",
       "    </tr>\n",
       "    <tr>\n",
       "      <th>5</th>\n",
       "      <td>Teo</td>\n",
       "      <td>ES</td>\n",
       "      <td>2020-11-12 00:04:07</td>\n",
       "      <td>42.75</td>\n",
       "      <td>-8.50</td>\n",
       "      <td>55.99</td>\n",
       "      <td>87</td>\n",
       "      <td>75</td>\n",
       "      <td>11.41</td>\n",
       "    </tr>\n",
       "    <tr>\n",
       "      <th>6</th>\n",
       "      <td>Bambous Virieux</td>\n",
       "      <td>MU</td>\n",
       "      <td>2020-11-12 00:04:07</td>\n",
       "      <td>-20.34</td>\n",
       "      <td>57.76</td>\n",
       "      <td>73.99</td>\n",
       "      <td>83</td>\n",
       "      <td>40</td>\n",
       "      <td>6.93</td>\n",
       "    </tr>\n",
       "    <tr>\n",
       "      <th>7</th>\n",
       "      <td>Kaitangata</td>\n",
       "      <td>NZ</td>\n",
       "      <td>2020-11-12 00:04:08</td>\n",
       "      <td>-46.28</td>\n",
       "      <td>169.85</td>\n",
       "      <td>64.00</td>\n",
       "      <td>52</td>\n",
       "      <td>72</td>\n",
       "      <td>8.01</td>\n",
       "    </tr>\n",
       "    <tr>\n",
       "      <th>8</th>\n",
       "      <td>Mataura</td>\n",
       "      <td>NZ</td>\n",
       "      <td>2020-11-12 00:04:08</td>\n",
       "      <td>-46.19</td>\n",
       "      <td>168.86</td>\n",
       "      <td>57.00</td>\n",
       "      <td>78</td>\n",
       "      <td>95</td>\n",
       "      <td>15.99</td>\n",
       "    </tr>\n",
       "    <tr>\n",
       "      <th>9</th>\n",
       "      <td>Cape Town</td>\n",
       "      <td>ZA</td>\n",
       "      <td>2020-11-12 00:03:05</td>\n",
       "      <td>-33.93</td>\n",
       "      <td>18.42</td>\n",
       "      <td>63.00</td>\n",
       "      <td>82</td>\n",
       "      <td>0</td>\n",
       "      <td>2.24</td>\n",
       "    </tr>\n",
       "  </tbody>\n",
       "</table>\n",
       "</div>"
      ],
      "text/plain": [
       "              City Country                 Date    Lat     Lng  Max Temp  \\\n",
       "0        Piacabucu      BR  2020-11-12 00:04:06 -10.41  -36.43     76.12   \n",
       "1           Inuvik      CA  2020-11-12 00:04:06  68.35 -133.72      5.00   \n",
       "2        Jamestown      US  2020-11-12 00:03:44  42.10  -79.24     48.99   \n",
       "3             Yuli      NG  2020-11-12 00:04:07   9.70   10.27     75.61   \n",
       "4            Namie      JP  2020-11-12 00:04:07  37.48  141.00     51.01   \n",
       "5              Teo      ES  2020-11-12 00:04:07  42.75   -8.50     55.99   \n",
       "6  Bambous Virieux      MU  2020-11-12 00:04:07 -20.34   57.76     73.99   \n",
       "7       Kaitangata      NZ  2020-11-12 00:04:08 -46.28  169.85     64.00   \n",
       "8          Mataura      NZ  2020-11-12 00:04:08 -46.19  168.86     57.00   \n",
       "9        Cape Town      ZA  2020-11-12 00:03:05 -33.93   18.42     63.00   \n",
       "\n",
       "   Humidity  Cloudiness  Wind Speed  \n",
       "0        77           0        9.91  \n",
       "1        71          22        5.82  \n",
       "2        87           1       10.29  \n",
       "3        34          10        5.59  \n",
       "4        57           0        3.80  \n",
       "5        87          75       11.41  \n",
       "6        83          40        6.93  \n",
       "7        52          72        8.01  \n",
       "8        78          95       15.99  \n",
       "9        82           0        2.24  "
      ]
     },
     "execution_count": 51,
     "metadata": {},
     "output_type": "execute_result"
    }
   ],
   "source": [
    "new_column_order = [\"City\", \"Country\", \"Date\", \"Lat\", \"Lng\", \"Max Temp\", \"Humidity\", \"Cloudiness\", \"Wind Speed\"]\n",
    "new_city_data_df = city_data_df[new_column_order]\n",
    "\n",
    "new_city_data_df.head(10)"
   ]
  },
  {
   "cell_type": "code",
   "execution_count": null,
   "metadata": {},
   "outputs": [],
   "source": [
    "# Lastly, following the instructions below, we'll create an output file to save the DataFrame as a CSV in a new \n",
    "# folder for that file.\n",
    "\n",
    "# In our World_Weather_Analysis folder, create a new folder called \"weather_data.\" \n",
    "\n",
    "# Add the following code to a new cell, run the cell, then confirm your CSV file is in the folder.\n"
   ]
  },
  {
   "cell_type": "code",
   "execution_count": 53,
   "metadata": {},
   "outputs": [],
   "source": [
    "# Create the output file (CSV).\n",
    "output_data_file = \"weather_data/cities.csv\"\n",
    "# Export the City_Data into a CSV.\n",
    "city_data_df.to_csv(output_data_file, index_label=\"City_ID\")"
   ]
  },
  {
   "cell_type": "code",
   "execution_count": null,
   "metadata": {},
   "outputs": [],
   "source": [
    "# The last line in the code block will export the DataFrame to a CSV file, with the index label (or column A) header \n",
    "# as \"City_ID.\" \n",
    "\n",
    "# If we ever need to export the CSV file to a DataFrame, that header will be present in the DataFrame.\n",
    "\n"
   ]
  },
  {
   "cell_type": "code",
   "execution_count": null,
   "metadata": {},
   "outputs": [],
   "source": [
    "# We've completed our tasks for making API calls, parsing the response, and collecting the data for our project. \n",
    "\n",
    "# Before we move on to graphing and statistical analysis, let's update our GitHub repository.\n"
   ]
  },
  {
   "cell_type": "code",
   "execution_count": null,
   "metadata": {},
   "outputs": [],
   "source": [
    "# Modify the .gitignore File\n",
    "\n",
    "# We don't want the config.py file containing the API key to be exposed to the public on GitHub, as this would mean \n",
    "# anyone could copy and use our API key, possibly causing us to incur charges.\n",
    "\n",
    "# When we type git status in the command line, we can see all the files we have created so far that are untracked.\n",
    "\n",
    "# If we only wanted to add the WeatherPy.ipynb file to GitHub we could type\n",
    "\n",
    "# git add WeatherPy.ipynb. \n",
    "\n",
    "# However, every time we want to add a new file or update current files to the repository, we have to add each file \n",
    "# individually, which is time-consuming and cumbersome. \n",
    "\n",
    "# Instead, we can add the files we don't want to track to the .gitignore file.\n",
    "\n",
    "# GitHub does not track files and extensions that are added to the .gitignore file."
   ]
  },
  {
   "cell_type": "code",
   "execution_count": null,
   "metadata": {},
   "outputs": [],
   "source": [
    "# 6.3.1 Plot Latitude vs. Temperature\n",
    "\n",
    "# Fake storyline: creating a community outreach website for middle school STEM students.\n",
    "\n",
    "# Your company is going to focus on climate change, and since you know how to use Matplotlib, you decide to create \n",
    "# some visualizations that showcase the weather parameters you retrieved with changing latitude for the 500-plus \n",
    "# cities from all over the world. \n",
    "\n",
    "# The students will then be able to use these visualizations to explore how weather parameters change based on \n",
    "# latitude.\n",
    "\n",
    "# We are going to create a series of scatter plots for each weather parameter against the latitude for all the cities. The students will use these scatter plots to write a summary report on how different weather parameters change based on the latitude.\n",
    "\n",
    "# We'll create scatter plots for latitude vs. maximum temperature, humidity, cloudiness, and wind speed. \n",
    "\n",
    "# Recall that to create a scatter plot, we collect then add x- and y-axis data to plt.scatter()."
   ]
  },
  {
   "cell_type": "code",
   "execution_count": null,
   "metadata": {},
   "outputs": [],
   "source": [
    "# Get Data for Plotting\n",
    "\n",
    "# First, we'll retrieve the data we need to create our scatter plots. \n",
    "# We will need latitude, maximum temperature, humidity, cloudiness, and wind speed from all the cities."
   ]
  },
  {
   "cell_type": "code",
   "execution_count": 54,
   "metadata": {},
   "outputs": [],
   "source": [
    "# Extract relevant fields from the DataFrame for plotting.\n",
    "lats = city_data_df[\"Lat\"]\n",
    "max_temps = city_data_df[\"Max Temp\"]\n",
    "humidity = city_data_df[\"Humidity\"]\n",
    "cloudiness = city_data_df[\"Cloudiness\"]\n",
    "wind_speed = city_data_df[\"Wind Speed\"]"
   ]
  },
  {
   "cell_type": "code",
   "execution_count": null,
   "metadata": {},
   "outputs": [],
   "source": [
    "# Your final scatter plot will need the current date in the title. To add the current date, we will need to import \n",
    "# the time module, rather than the datetime module that we used to convert the date. \n",
    "\n",
    "# The time module is a standard Python library, so there is no need to install it.\n",
    "\n",
    "# In a new cell in our API_practice.ipynb file, we will import the time module and some code to practice how to use \n",
    "# this module. \n"
   ]
  },
  {
   "cell_type": "code",
   "execution_count": null,
   "metadata": {},
   "outputs": [],
   "source": [
    "# go to API_practice file "
   ]
  },
  {
   "cell_type": "code",
   "execution_count": null,
   "metadata": {},
   "outputs": [],
   "source": [
    "# add the following code to create a scatter plot for the latitude vs. maximum temperature and run the cell.\n",
    "\n"
   ]
  },
  {
   "cell_type": "code",
   "execution_count": 55,
   "metadata": {},
   "outputs": [
    {
     "data": {
      "image/png": "[encoded data removed]",
      "text/plain": [
       "<Figure size 432x288 with 1 Axes>"
      ]
     },
     "metadata": {
      "needs_background": "light"
     },
     "output_type": "display_data"
    }
   ],
   "source": [
    "# Import time module\n",
    "import time\n",
    "\n",
    "# Build the scatter plot for latitude vs. max temperature.\n",
    "plt.scatter(lats,\n",
    "            max_temps,\n",
    "            edgecolor=\"black\", linewidths=1, marker=\"o\",\n",
    "            alpha=0.8, label=\"Cities\")\n",
    "\n",
    "# Incorporate the other graph properties.\n",
    "plt.title(f\"City Latitude vs. Max Temperature \"+ time.strftime(\"%x\"))\n",
    "plt.ylabel(\"Max Temperature (F)\")\n",
    "plt.xlabel(\"Latitude\")\n",
    "plt.grid(True)\n",
    "\n",
    "# Save the figure.\n",
    "plt.savefig(\"weather_data/Fig1.png\")\n",
    "\n",
    "# Show plot.\n",
    "plt.show()"
   ]
  },
  {
   "cell_type": "code",
   "execution_count": null,
   "metadata": {},
   "outputs": [],
   "source": [
    "# The balance of the scatter plots will share the same format. \n",
    "\n",
    "# All we need to do is change the y-axis variable for each weather parameter. \n",
    "\n",
    "# Let's create the scatter plots quickly by copying the code and changing the y-axis variable.\n",
    "\n"
   ]
  },
  {
   "cell_type": "code",
   "execution_count": null,
   "metadata": {},
   "outputs": [],
   "source": [
    "# 6.3.2 Plot Latitude vs. Humidity\n",
    "\n",
    "#  Now, you need to create a scatter plot that compares the latitude vs. the humidity.\n",
    "\n",
    "# We can repurpose our code for the maximum temperature scatter plot and create a scatter plot for the latitude \n",
    "# versus humidity."
   ]
  },
  {
   "cell_type": "code",
   "execution_count": null,
   "metadata": {},
   "outputs": [],
   "source": [
    "# In addition to changing the y-axis variable to \"humidity,\" we need to change the title to \"Humidity,\" and the \n",
    "# y-axis label to \"Humidity (%).\"\n",
    "\n"
   ]
  },
  {
   "cell_type": "code",
   "execution_count": 56,
   "metadata": {},
   "outputs": [
    {
     "data": {
      "image/png": "[encoded data removed]",
      "text/plain": [
       "<Figure size 432x288 with 1 Axes>"
      ]
     },
     "metadata": {
      "needs_background": "light"
     },
     "output_type": "display_data"
    }
   ],
   "source": [
    "# Build the scatter plots for latitude vs. humidity.\n",
    "plt.scatter(lats,\n",
    "            humidity,\n",
    "            edgecolor=\"black\", linewidths=1, marker=\"o\",\n",
    "            alpha=0.8, label=\"Cities\")\n",
    "\n",
    "# Incorporate the other graph properties.\n",
    "plt.title(f\"City Latitude vs. Humidity \"+ time.strftime(\"%x\"))\n",
    "plt.ylabel(\"Humidity (%)\")\n",
    "plt.xlabel(\"Latitude\")\n",
    "plt.grid(True)\n",
    "# Save the figure.\n",
    "plt.savefig(\"weather_data/Fig2.png\")\n",
    "# Show plot.\n",
    "plt.show()"
   ]
  },
  {
   "cell_type": "code",
   "execution_count": null,
   "metadata": {},
   "outputs": [],
   "source": [
    "# 6.3.3 Plot Latitude vs. Cloudiness\n",
    "\n",
    "# Let's refactor the code for our scatter plots by changing the y-axis variable to \"cloudiness,\" the title to \n",
    "# \"Cloudiness (%),\" and the y-axis label to \"Cloudiness (%).\"\n",
    "\n"
   ]
  },
  {
   "cell_type": "code",
   "execution_count": 57,
   "metadata": {},
   "outputs": [
    {
     "data": {
      "image/png": "[encoded data removed]",
      "text/plain": [
       "<Figure size 432x288 with 1 Axes>"
      ]
     },
     "metadata": {
      "needs_background": "light"
     },
     "output_type": "display_data"
    }
   ],
   "source": [
    "# Build the scatter plots for latitude vs. cloudiness.\n",
    "plt.scatter(lats,\n",
    "            cloudiness,\n",
    "            edgecolor=\"black\", linewidths=1, marker=\"o\",\n",
    "            alpha=0.8, label=\"Cities\")\n",
    "\n",
    "# Incorporate the other graph properties.\n",
    "plt.title(f\"City Latitude vs. Cloudiness (%) \"+ time.strftime(\"%x\"))\n",
    "plt.ylabel(\"Cloudiness (%)\")\n",
    "plt.xlabel(\"Latitude\")\n",
    "plt.grid(True)\n",
    "# Save the figure.\n",
    "plt.savefig(\"weather_data/Fig3.png\")\n",
    "# Show plot.\n",
    "plt.show()"
   ]
  },
  {
   "cell_type": "code",
   "execution_count": null,
   "metadata": {},
   "outputs": [],
   "source": [
    "# 6.3.4 Plot Latitude vs. Wind Speed\n",
    "\n",
    "# Now, we can create our last scatter plot! Let's repurpose the code we have been using and change the y-axis \n",
    "# variable to \"wind speed,\" the title to \"Wind Speed,\" and the y-axis label to \"Wind Speed (mph).\"\n",
    "\n"
   ]
  },
  {
   "cell_type": "code",
   "execution_count": 58,
   "metadata": {},
   "outputs": [
    {
     "data": {
      "image/png": "[encoded data removed]",
      "text/plain": [
       "<Figure size 432x288 with 1 Axes>"
      ]
     },
     "metadata": {
      "needs_background": "light"
     },
     "output_type": "display_data"
    }
   ],
   "source": [
    "# Build the scatter plots for latitude vs. wind speed.\n",
    "plt.scatter(lats,\n",
    "            wind_speed,\n",
    "            edgecolor=\"black\", linewidths=1, marker=\"o\",\n",
    "            alpha=0.8, label=\"Cities\")\n",
    "\n",
    "# Incorporate the other graph properties.\n",
    "plt.title(f\"City Latitude vs. Wind Speed \"+ time.strftime(\"%x\"))\n",
    "plt.ylabel(\"Wind Speed (mph)\")\n",
    "plt.xlabel(\"Latitude\")\n",
    "plt.grid(True)\n",
    "# Save the figure.\n",
    "plt.savefig(\"weather_data/Fig4.png\")\n",
    "# Show plot.\n",
    "plt.show()"
   ]
  },
  {
   "cell_type": "code",
   "execution_count": null,
   "metadata": {},
   "outputs": [],
   "source": [
    "# Using the data from the Northern and Southern Hemispheres, we are going to perform linear regression on all \n",
    "# four weather parameters: maximum temperature, humidity, cloudiness, and wind speed.\n",
    "\n",
    "# We have an algorithm that performs the linear regression; returns the equation of the regression line, and \n",
    "# correlation coefficient, and p value; and adds the regression line to a scatter plot of city weather data. \n",
    "\n",
    "# Below, the code looks like what we have used before.\n"
   ]
  },
  {
   "cell_type": "code",
   "execution_count": 59,
   "metadata": {},
   "outputs": [
    {
     "ename": "NameError",
     "evalue": "name 'linregress' is not defined",
     "output_type": "error",
     "traceback": [
      "\u001b[0;31m---------------------------------------------------------------------------\u001b[0m",
      "\u001b[0;31mNameError\u001b[0m                                 Traceback (most recent call last)",
      "\u001b[0;32m<ipython-input-59-a415911b13a5>\u001b[0m in \u001b[0;36m<module>\u001b[0;34m\u001b[0m\n\u001b[1;32m      1\u001b[0m \u001b[0;31m# Perform linear regression.\u001b[0m\u001b[0;34m\u001b[0m\u001b[0;34m\u001b[0m\u001b[0;34m\u001b[0m\u001b[0m\n\u001b[0;32m----> 2\u001b[0;31m \u001b[0;34m(\u001b[0m\u001b[0mslope\u001b[0m\u001b[0;34m,\u001b[0m \u001b[0mintercept\u001b[0m\u001b[0;34m,\u001b[0m \u001b[0mr_value\u001b[0m\u001b[0;34m,\u001b[0m \u001b[0mp_value\u001b[0m\u001b[0;34m,\u001b[0m \u001b[0mstd_err\u001b[0m\u001b[0;34m)\u001b[0m \u001b[0;34m=\u001b[0m \u001b[0mlinregress\u001b[0m\u001b[0;34m(\u001b[0m\u001b[0mx_values\u001b[0m\u001b[0;34m,\u001b[0m \u001b[0my_values\u001b[0m\u001b[0;34m)\u001b[0m\u001b[0;34m\u001b[0m\u001b[0;34m\u001b[0m\u001b[0m\n\u001b[0m\u001b[1;32m      3\u001b[0m \u001b[0;34m\u001b[0m\u001b[0m\n\u001b[1;32m      4\u001b[0m \u001b[0;31m# Calculate the regression line \"y values\" from the slope and intercept.\u001b[0m\u001b[0;34m\u001b[0m\u001b[0;34m\u001b[0m\u001b[0;34m\u001b[0m\u001b[0m\n\u001b[1;32m      5\u001b[0m \u001b[0mregress_values\u001b[0m \u001b[0;34m=\u001b[0m \u001b[0mx_values\u001b[0m \u001b[0;34m*\u001b[0m \u001b[0mslope\u001b[0m \u001b[0;34m+\u001b[0m \u001b[0mintercept\u001b[0m\u001b[0;34m\u001b[0m\u001b[0;34m\u001b[0m\u001b[0m\n",
      "\u001b[0;31mNameError\u001b[0m: name 'linregress' is not defined"
     ]
    }
   ],
   "source": [
    "# We will reuse this code with minor changes for each weather parameter in each hemisphere. \n",
    "\n",
    "# Perform linear regression.\n",
    "(slope, intercept, r_value, p_value, std_err) = linregress(x_values, y_values)\n",
    "\n",
    "# Calculate the regression line \"y values\" from the slope and intercept.\n",
    "regress_values = x_values * slope + intercept\n",
    "\n",
    "# Get the equation of the line.\n",
    "line_eq = \"y = \" + str(round(slope,2)) + \"x + \" + str(round(intercept,2))\n",
    "\n",
    "# Create a scatter plot of the x and y values.\n",
    "plt.scatter(x_values,y_values)\n",
    "\n",
    "# Plot the regression line with the x-values and the y coordinates based on the intercept and slope.\n",
    "plt.plot(x_values,regress_values,\"r\")\n",
    "\n",
    "# Annotate the text for the line equation and add its coordinates.\n",
    "plt.annotate(line_eq, (10,40), fontsize=15, color=\"red\")\n",
    "plt.xlabel('Latitude')\n",
    "plt.ylabel('Temp')\n",
    "plt.show()"
   ]
  },
  {
   "cell_type": "code",
   "execution_count": null,
   "metadata": {},
   "outputs": [],
   "source": [
    "# The variables for each graph are as follows:\n",
    "\n",
    "# The x values, the latitudes\n",
    "# The y values, each of the four weather parameters\n",
    "# The y label, the weather parameter being plotted\n",
    "# The x- and y-values given as a tuple, (10,40), for the regression line equation to be placed on the scatter plot."
   ]
  },
  {
   "cell_type": "code",
   "execution_count": null,
   "metadata": {},
   "outputs": [],
   "source": [
    "# With only four small changes to the code, this is a great time to convert our linear regression calculation and \n",
    "# plotting to a function! In the function, we can add these four parameters as variables, and when we call the \n",
    "# function, pass values to those variables.\n",
    "\n"
   ]
  },
  {
   "cell_type": "code",
   "execution_count": null,
   "metadata": {},
   "outputs": [],
   "source": [
    "# Create a Linear Regression Function\n",
    "\n",
    "# In a new cell of our WeatherPy.ipynb Jupyter Notebook file, let's create a function, \"plot_linear_regression\", and \n",
    "# add the four parameters inside the parentheses. Our function should look like the following.\n",
    "\n"
   ]
  },
  {
   "cell_type": "code",
   "execution_count": 62,
   "metadata": {},
   "outputs": [],
   "source": [
    "# Create a function to create perform linear regression on the weather data\n",
    "# and plot a regression line and the equation with the data.\n",
    "\n",
    "# def plot_linear_regression(x_values, y_values, title, y_label, text_coordinates):"
   ]
  },
  {
   "cell_type": "code",
   "execution_count": null,
   "metadata": {},
   "outputs": [],
   "source": [
    "# In our function, we have four parameters: x_values, y_values, y_label, and text_coordinates, and we will add a \n",
    "# fifth parameter for the title, called, title. \n",
    "\n",
    "# Now, add the algorithm we use to perform the linear regression underneath the function. \n",
    "\n",
    "# Our function should look like the following.\n",
    "    "
   ]
  },
  {
   "cell_type": "code",
   "execution_count": 63,
   "metadata": {},
   "outputs": [],
   "source": [
    "# Import linregress\n",
    "from scipy.stats import linregress\n",
    "\n",
    "# Create a function to create perform linear regression on the weather data\n",
    "# and plot a regression line and the equation with the data.\n",
    "def plot_linear_regression(x_values, y_values, title, y_label, text_coordinates):\n",
    "\n",
    "    # Run regression on hemisphere weather data.\n",
    "    (slope, intercept, r_value, p_value, std_err) = linregress(x_values, y_values)\n",
    "\n",
    "    # Calculate the regression line \"y values\" from the slope and intercept.\n",
    "    regress_values = x_values * slope + intercept\n",
    "    # Get the equation of the line.\n",
    "    line_eq = \"y = \" + str(round(slope,2)) + \"x + \" + str(round(intercept,2))\n",
    "    # Create a scatter plot and plot the regression line.\n",
    "    plt.scatter(x_values,y_values)\n",
    "    plt.plot(x_values,regress_values,\"r\")\n",
    "    # Annotate the text for the line equation.\n",
    "    plt.annotate(line_eq, text_coordinates, fontsize=15, color=\"red\")\n",
    "    plt.xlabel('Latitude')\n",
    "    plt.ylabel(y_label)\n",
    "    plt.show()"
   ]
  },
  {
   "cell_type": "code",
   "execution_count": null,
   "metadata": {},
   "outputs": [],
   "source": [
    "# If we run this code there will be no output until we call the function with five parameters\n",
    "\n",
    "# To get an output from a function, we need to call the function with the correct number of parameters or arguments \n",
    "# for the function."
   ]
  },
  {
   "cell_type": "code",
   "execution_count": null,
   "metadata": {},
   "outputs": [],
   "source": [
    "# Create the Hemisphere DataFrames\n",
    "\n",
    "# We will add some code to perform regression analysis on the maximum temperatures in the Northern and Southern \n",
    "# Hemispheres. \n",
    "\n",
    "# To do this, we will need to create Northern Hemisphere DataFrames from the city_data_df DataFrame.\n",
    "\n"
   ]
  },
  {
   "cell_type": "code",
   "execution_count": null,
   "metadata": {},
   "outputs": [],
   "source": [
    "# To create a new DataFrame from a current DataFrame, we can use the loc method on the current DataFrame. \n",
    "\n",
    "# The loc method accesses a group of rows and columns in the current DataFrame by an index, labels, or a Boolean array.\n",
    "\n",
    "# The syntax to get a specific row from a current DataFrame is:\n",
    "\n",
    "# row = df.loc[row_index].\n",
    "\n"
   ]
  },
  {
   "cell_type": "code",
   "execution_count": 64,
   "metadata": {},
   "outputs": [
    {
     "data": {
      "text/plain": [
       "City               Ribeira Grande\n",
       "Lat                         38.52\n",
       "Lng                         -28.7\n",
       "Max Temp                    61.79\n",
       "Humidity                       59\n",
       "Cloudiness                     99\n",
       "Wind Speed                    5.7\n",
       "Country                        PT\n",
       "Date          2020-11-12 00:04:09\n",
       "Name: 13, dtype: object"
      ]
     },
     "execution_count": 64,
     "metadata": {},
     "output_type": "execute_result"
    }
   ],
   "source": [
    "# Let's apply this method to our city_data_df DataFrame by adding the code \n",
    "\n",
    "index13 = city_data_df.loc[13] \n",
    "\n",
    "# in a cell and running the cell. \n",
    "\n",
    "# The output will present all the information at index 13 of the city_data_df DataFrame. \n",
    "\n",
    "#Note that you may see a different city in your output cell than the one shown in the following image\n",
    "\n",
    "index13"
   ]
  },
  {
   "cell_type": "code",
   "execution_count": 65,
   "metadata": {},
   "outputs": [
    {
     "data": {
      "text/plain": [
       "0      False\n",
       "1       True\n",
       "2       True\n",
       "3       True\n",
       "4       True\n",
       "       ...  \n",
       "553     True\n",
       "554     True\n",
       "555    False\n",
       "556     True\n",
       "557     True\n",
       "Name: Lat, Length: 558, dtype: bool"
      ]
     },
     "execution_count": 65,
     "metadata": {},
     "output_type": "execute_result"
    }
   ],
   "source": [
    "# We can also filter a DataFrame based on a value of a row. For instance, if we wanted to get all Northern Hemisphere \n",
    "#latitudes, for latitudes greater than or equal to 0, we can filter the city_data_df DataFrame using the code \n",
    "\n",
    "city_data_df[\"Lat\"] >= 0. \n",
    "\n",
    "#Executing this code will return either \"True\" or \"False\" for all the rows that meet these criteria.\n",
    "\n"
   ]
  },
  {
   "cell_type": "code",
   "execution_count": 66,
   "metadata": {},
   "outputs": [
    {
     "data": {
      "text/html": [
       "<div>\n",
       "<style scoped>\n",
       "    .dataframe tbody tr th:only-of-type {\n",
       "        vertical-align: middle;\n",
       "    }\n",
       "\n",
       "    .dataframe tbody tr th {\n",
       "        vertical-align: top;\n",
       "    }\n",
       "\n",
       "    .dataframe thead th {\n",
       "        text-align: right;\n",
       "    }\n",
       "</style>\n",
       "<table border=\"1\" class=\"dataframe\">\n",
       "  <thead>\n",
       "    <tr style=\"text-align: right;\">\n",
       "      <th></th>\n",
       "      <th>City</th>\n",
       "      <th>Lat</th>\n",
       "      <th>Lng</th>\n",
       "      <th>Max Temp</th>\n",
       "      <th>Humidity</th>\n",
       "      <th>Cloudiness</th>\n",
       "      <th>Wind Speed</th>\n",
       "      <th>Country</th>\n",
       "      <th>Date</th>\n",
       "    </tr>\n",
       "  </thead>\n",
       "  <tbody>\n",
       "    <tr>\n",
       "      <th>1</th>\n",
       "      <td>Inuvik</td>\n",
       "      <td>68.35</td>\n",
       "      <td>-133.72</td>\n",
       "      <td>5.00</td>\n",
       "      <td>71</td>\n",
       "      <td>22</td>\n",
       "      <td>5.82</td>\n",
       "      <td>CA</td>\n",
       "      <td>2020-11-12 00:04:06</td>\n",
       "    </tr>\n",
       "    <tr>\n",
       "      <th>2</th>\n",
       "      <td>Jamestown</td>\n",
       "      <td>42.10</td>\n",
       "      <td>-79.24</td>\n",
       "      <td>48.99</td>\n",
       "      <td>87</td>\n",
       "      <td>1</td>\n",
       "      <td>10.29</td>\n",
       "      <td>US</td>\n",
       "      <td>2020-11-12 00:03:44</td>\n",
       "    </tr>\n",
       "    <tr>\n",
       "      <th>3</th>\n",
       "      <td>Yuli</td>\n",
       "      <td>9.70</td>\n",
       "      <td>10.27</td>\n",
       "      <td>75.61</td>\n",
       "      <td>34</td>\n",
       "      <td>10</td>\n",
       "      <td>5.59</td>\n",
       "      <td>NG</td>\n",
       "      <td>2020-11-12 00:04:07</td>\n",
       "    </tr>\n",
       "    <tr>\n",
       "      <th>4</th>\n",
       "      <td>Namie</td>\n",
       "      <td>37.48</td>\n",
       "      <td>141.00</td>\n",
       "      <td>51.01</td>\n",
       "      <td>57</td>\n",
       "      <td>0</td>\n",
       "      <td>3.80</td>\n",
       "      <td>JP</td>\n",
       "      <td>2020-11-12 00:04:07</td>\n",
       "    </tr>\n",
       "    <tr>\n",
       "      <th>5</th>\n",
       "      <td>Teo</td>\n",
       "      <td>42.75</td>\n",
       "      <td>-8.50</td>\n",
       "      <td>55.99</td>\n",
       "      <td>87</td>\n",
       "      <td>75</td>\n",
       "      <td>11.41</td>\n",
       "      <td>ES</td>\n",
       "      <td>2020-11-12 00:04:07</td>\n",
       "    </tr>\n",
       "  </tbody>\n",
       "</table>\n",
       "</div>"
      ],
      "text/plain": [
       "        City    Lat     Lng  Max Temp  Humidity  Cloudiness  Wind Speed  \\\n",
       "1     Inuvik  68.35 -133.72      5.00        71          22        5.82   \n",
       "2  Jamestown  42.10  -79.24     48.99        87           1       10.29   \n",
       "3       Yuli   9.70   10.27     75.61        34          10        5.59   \n",
       "4      Namie  37.48  141.00     51.01        57           0        3.80   \n",
       "5        Teo  42.75   -8.50     55.99        87          75       11.41   \n",
       "\n",
       "  Country                 Date  \n",
       "1      CA  2020-11-12 00:04:06  \n",
       "2      US  2020-11-12 00:03:44  \n",
       "3      NG  2020-11-12 00:04:07  \n",
       "4      JP  2020-11-12 00:04:07  \n",
       "5      ES  2020-11-12 00:04:07  "
      ]
     },
     "execution_count": 66,
     "metadata": {},
     "output_type": "execute_result"
    }
   ],
   "source": [
    "# If we want to return a DataFrame with all data fitting the criteria, for latitudes greater than or equal to 0, \n",
    "# we can use the loc method on the city_data_df DataFrame. \n",
    "\n",
    "# Inside the brackets, we would add the conditional filter city_data_df[\"Lat\"] >= 0 so that our statement would \n",
    "# appear as:\n",
    "\n",
    "# city_data_df.loc[(city_data_df[\"Lat\"] >= 0)]\n",
    "\n",
    "# Also, since this is a DataFrame, we can add the head() method at the end to get the first five rows, not counting \n",
    "# the row of column headings.\n",
    "\n",
    "city_data_df.loc[(city_data_df[\"Lat\"] >= 0)].head()"
   ]
  },
  {
   "cell_type": "code",
   "execution_count": null,
   "metadata": {},
   "outputs": [],
   "source": [
    "# Now assign this DataFrame to the variable northern_hemi_df to access the data to perform linear regression.\n",
    "\n",
    "# We can take the same approach to get the cities for the Southern Hemisphere by filtering the city_data_df DataFrame \n",
    "# for latitudes less than 0.\n",
    "\n",
    "# To create DataFrames for the Northern and Southern Hemispheres' data, add the code to a new cell and run the code."
   ]
  },
  {
   "cell_type": "code",
   "execution_count": 67,
   "metadata": {},
   "outputs": [],
   "source": [
    "# Create Northern and Southern Hemisphere DataFrames.\n",
    "northern_hemi_df = city_data_df.loc[(city_data_df[\"Lat\"] >= 0)]\n",
    "southern_hemi_df = city_data_df.loc[(city_data_df[\"Lat\"] < 0)]"
   ]
  },
  {
   "cell_type": "code",
   "execution_count": null,
   "metadata": {},
   "outputs": [],
   "source": [
    "# Now we can perform linear regression on latitude and maximum temperature from each hemisphere DataFrame.\n",
    "\n"
   ]
  },
  {
   "cell_type": "code",
   "execution_count": null,
   "metadata": {},
   "outputs": [],
   "source": [
    "# Perform Linear Regression on the Maximum Temperature for the Northern Hemisphere\n",
    "\n",
    "# To generate the linear regression on the maximum temperature for the Northern Hemisphere, we'll need x and y values. \n",
    "# Set the x values equal to the latitude column and the y values equal to the maximum temperature column from the \n",
    "# northern_hemi_df DataFrame.\n",
    "\n",
    "# Call the plot_linear_regression function with the x and y values, and edit the title, y_label, and text_coordinates \n",
    "# for the maximum temperature scatter plot. \n",
    "\n",
    "# Add the code to a new cell and run it to generate the linear regression and plot the data."
   ]
  },
  {
   "cell_type": "code",
   "execution_count": 68,
   "metadata": {},
   "outputs": [
    {
     "data": {
      "image/png": "[encoded data removed]",
      "text/plain": [
       "<Figure size 432x288 with 1 Axes>"
      ]
     },
     "metadata": {
      "needs_background": "light"
     },
     "output_type": "display_data"
    }
   ],
   "source": [
    "# Linear regression on the Northern Hemisphere\n",
    "x_values = northern_hemi_df[\"Lat\"]\n",
    "y_values = northern_hemi_df[\"Max Temp\"]\n",
    "# Call the function.\n",
    "plot_linear_regression(x_values, y_values,\n",
    "                       'Linear Regression on the Northern Hemisphere \\\n",
    "                        for Maximum Temperature', 'Max Temp',(10,40))"
   ]
  },
  {
   "cell_type": "code",
   "execution_count": null,
   "metadata": {},
   "outputs": [],
   "source": [
    "# If the equation for the regression line doesn't show up on your graph, you can change the text_coordinates until \n",
    "# you see the equation."
   ]
  },
  {
   "cell_type": "code",
   "execution_count": null,
   "metadata": {},
   "outputs": [],
   "source": [
    "# To generate the linear regression on the maximum temperature for the Southern Hemisphere, reuse the code for the \n",
    "# Northern Hemisphere and replace the northern_hemi_df DataFrame with the southern_hemi_df DataFrame to get the x- \n",
    "# and y-values.\n",
    "\n",
    "# Call the plot_linear_regression function with the x- and y-values, and edit the title, y_label, and text_coordinates\n",
    "# for the maximum temperature scatter plot. \n",
    "\n",
    "# Add the code to a new cell and run it to generate the linear regression and plot the data."
   ]
  },
  {
   "cell_type": "code",
   "execution_count": 69,
   "metadata": {},
   "outputs": [
    {
     "data": {
      "image/png": "[encoded data removed]",
      "text/plain": [
       "<Figure size 432x288 with 1 Axes>"
      ]
     },
     "metadata": {
      "needs_background": "light"
     },
     "output_type": "display_data"
    }
   ],
   "source": [
    "# Linear regression on the Southern Hemisphere\n",
    "x_values = southern_hemi_df[\"Lat\"]\n",
    "y_values = southern_hemi_df[\"Max Temp\"]\n",
    "# Call the function.\n",
    "plot_linear_regression(x_values, y_values,\n",
    "                       'Linear Regression on the Southern Hemisphere \\\n",
    "                        for Maximum Temperature', 'Max Temp',(-50,90))"
   ]
  },
  {
   "cell_type": "code",
   "execution_count": null,
   "metadata": {},
   "outputs": [],
   "source": [
    "# Congratulations! You have plotted the regression line and equation for latitude and maximum temperature for your \n",
    "# Northern and Southern Hemispheres.\n",
    "\n"
   ]
  },
  {
   "cell_type": "code",
   "execution_count": null,
   "metadata": {},
   "outputs": [],
   "source": [
    "# The correlation between the latitude and the maximum temperature is strong to very strong because the r-value is \n",
    "# less than –0.7 for the Northern Hemisphere and greater than 0.7 for the Southern Hemisphere, as shown by the plots \n",
    "#here. \n",
    "\n",
    "# This means that as we approach the equator, 0° latitude, the temperatures become warmer. \n",
    "\n",
    "# And when we are further from the equator the temperatures become cooler. Check the r-values for your plots. "
   ]
  },
  {
   "cell_type": "code",
   "execution_count": null,
   "metadata": {},
   "outputs": [],
   "source": [
    "# 6.4.3 Find the Correlation Between Latitude and Percent Humidity\n",
    "\n",
    "# create the linear equation and scatter plot of the latitude and percent humidity for the Northern and \n",
    "# Southern Hemispheres.\n",
    "\n",
    "# Using the plot_linear_regression function, we can generate the regression lines on the percent humidity for the \n",
    "# Northern and Southern Hemispheres."
   ]
  },
  {
   "cell_type": "code",
   "execution_count": null,
   "metadata": {},
   "outputs": [],
   "source": [
    "# To perform the linear regression on the percent humidity for the Northern Hemisphere, set the x-value equal to the \n",
    "# latitude column and y-value equal to the Humidity column from the northern_hemi_df DataFrame.\n",
    "\n",
    "# Call the plot_linear_regression function with the x- and y-values, and edit the title, y_label, and \n",
    "# text_coordinates for the percent humidity scatter plot.\n",
    "\n"
   ]
  },
  {
   "cell_type": "code",
   "execution_count": 70,
   "metadata": {},
   "outputs": [
    {
     "data": {
      "image/png": "[encoded data removed]",
      "text/plain": [
       "<Figure size 432x288 with 1 Axes>"
      ]
     },
     "metadata": {
      "needs_background": "light"
     },
     "output_type": "display_data"
    }
   ],
   "source": [
    "# Linear regression on the Northern Hemisphere\n",
    "x_values = northern_hemi_df[\"Lat\"]\n",
    "y_values = northern_hemi_df[\"Humidity\"]\n",
    "# Call the function.\n",
    "plot_linear_regression(x_values, y_values,\n",
    "                       'Linear Regression on the Northern Hemisphere \\\n",
    "                        for % Humidity', '% Humidity',(40,10))"
   ]
  },
  {
   "cell_type": "code",
   "execution_count": null,
   "metadata": {},
   "outputs": [],
   "source": [
    "# Perform Linear Regression on the Percent Humidity for the Southern Hemisphere\n",
    "\n",
    "# Next, we will perform linear regression on the percent humidity and latitudes for the Southern Hemisphere."
   ]
  },
  {
   "cell_type": "code",
   "execution_count": 71,
   "metadata": {},
   "outputs": [],
   "source": [
    "# For our linear regression line and plot of the percent humidity and latitudes for the Southern Hemisphere, \n",
    "# set the x-value equal to the latitude column and y-value equal to the humidity column from the southern_hemi_df \n",
    "# DataFrame.\n",
    "\n",
    "# Call the plot_linear_regression function, with the x-and y-values, and edit the title, y_label, and \n",
    "# text_coordinates for the percent humidity scatter plot.\n"
   ]
  },
  {
   "cell_type": "code",
   "execution_count": 76,
   "metadata": {},
   "outputs": [
    {
     "data": {
      "image/png": "[encoded data removed]",
      "text/plain": [
       "<Figure size 432x288 with 1 Axes>"
      ]
     },
     "metadata": {
      "needs_background": "light"
     },
     "output_type": "display_data"
    }
   ],
   "source": [
    "# Linear regression on the Southern Hemisphere\n",
    "x_values = southern_hemi_df[\"Lat\"]\n",
    "y_values = southern_hemi_df[\"Humidity\"]\n",
    "# Call the function.\n",
    "plot_linear_regression(x_values, y_values,\n",
    "                       'Linear Regression on the Southern Hemisphere \\\n",
    "                        for % Humidity', '% Humidity',(-50,15))"
   ]
  },
  {
   "cell_type": "code",
   "execution_count": 75,
   "metadata": {},
   "outputs": [],
   "source": [
    "# The correlation between the latitude and percent humidity is very low because the r-value is less than 0.04 for the \n",
    "# Northern and Southern Hemispheres for the plots shown here. \n",
    "\n",
    "# This means that percent humidity is unpredictable due to changing weather patterns that can increase or decrease \n",
    "# percent humidity. \n",
    "\n",
    "# Check the r-values for your plots. \n",
    "\n"
   ]
  },
  {
   "cell_type": "code",
   "execution_count": null,
   "metadata": {},
   "outputs": [],
   "source": [
    "# 6.4.4 Find the Correlation Between Latitude and Percent Cloudiness\n",
    "\n",
    "# Perform Linear Regression on the Percent Cloudiness for the Northern Hemisphere"
   ]
  },
  {
   "cell_type": "code",
   "execution_count": null,
   "metadata": {},
   "outputs": [],
   "source": [
    "# SKILL DRILL\n",
    "\n",
    "# 1. Refactor the code we have been using for linear regression lines and plots to create the x- and y-values for the \n",
    "# percent cloudiness and latitudes on the Northern Hemisphere DataFrame.\n",
    "\n",
    "# 2. Call the plot_linear_regression function with the correct arguments to create the linear regression line and \n",
    "# plot for percent cloudiness in the Northern Hemisphere. "
   ]
  },
  {
   "cell_type": "code",
   "execution_count": 84,
   "metadata": {},
   "outputs": [
    {
     "data": {
      "image/png": "[encoded data removed]",
      "text/plain": [
       "<Figure size 432x288 with 1 Axes>"
      ]
     },
     "metadata": {
      "needs_background": "light"
     },
     "output_type": "display_data"
    }
   ],
   "source": [
    "# Linear regression on the Northern Hemisphere\n",
    "x_values = northern_hemi_df[\"Lat\"]\n",
    "y_values = northern_hemi_df[\"Cloudiness\"]\n",
    "# Call the function.\n",
    "plot_linear_regression(x_values, y_values,\n",
    "                       'Linear Regression on the Northern Hemisphere \\\n",
    "                        for % Cloudiness', '% Cloudiness',(10,55))"
   ]
  },
  {
   "cell_type": "code",
   "execution_count": null,
   "metadata": {},
   "outputs": [],
   "source": [
    "# Perform Linear Regression on the Percent Cloudiness for the Southern Hemisphere\n",
    "\n",
    "# Now we'll create the linear regression line and plot for percent cloudiness in the Southern Hemisphere.\n",
    "\n",
    "# Generate the x-value equal to the latitude column and the y-value equal to the cloudiness column from the \n",
    "# southern_hemi_df DataFrame. \n",
    "\n",
    "# Call the plot_linear_regression function. \n",
    "\n",
    "# Be sure to edit the title, y_label, and text_coordinates for the percent cloudiness scatter plot.\n",
    "\n",
    "\n"
   ]
  },
  {
   "cell_type": "code",
   "execution_count": 78,
   "metadata": {},
   "outputs": [
    {
     "data": {
      "image/png": "[encoded data removed]",
      "text/plain": [
       "<Figure size 432x288 with 1 Axes>"
      ]
     },
     "metadata": {
      "needs_background": "light"
     },
     "output_type": "display_data"
    }
   ],
   "source": [
    "# Linear regression on the Southern Hemisphere\n",
    "x_values = southern_hemi_df[\"Lat\"]\n",
    "y_values = southern_hemi_df[\"Cloudiness\"]\n",
    "# Call the function.\n",
    "plot_linear_regression(x_values, y_values,\n",
    "                       'Linear Regression on the Southern Hemisphere \\\n",
    "                        for % Cloudiness', '% Cloudiness',(-50,60))"
   ]
  },
  {
   "cell_type": "code",
   "execution_count": 85,
   "metadata": {},
   "outputs": [],
   "source": [
    "# The correlation between the latitude and percent cloudiness is very low because the r-value is less than –0.09 for the\n",
    "# Northern Hemisphere and less than –0.02 for the Southern Hemisphere for the plots shown here. \n",
    "\n",
    "#This means that cloudiness is unpredictable due to changing weather patterns that can increase or decrease percent \n",
    "# cloudiness. \n",
    "\n",
    "# Check the r-values for your plots. "
   ]
  },
  {
   "cell_type": "code",
   "execution_count": 86,
   "metadata": {},
   "outputs": [],
   "source": [
    "# 6.4.5 Find the Correlation Between Latitude and Wind Speed\n",
    "\n",
    "# create the linear equation plot on the latitude and wind speed for the Northern and Southern Hemispheres.\n",
    "\n",
    "# You could write an algorithm to execute the scripts to generate the x- and y-values from the Northern and Southern \n",
    "# Hemispheres DataFrames and call the plot_linear_regression function."
   ]
  },
  {
   "cell_type": "code",
   "execution_count": 87,
   "metadata": {},
   "outputs": [],
   "source": [
    "# Perform Linear Regression on the Wind Speed for the Northern Hemisphere\n",
    "\n",
    "#Call the plot_linear_regression function, with the x-value equal to the Latitude column and the y-value equal to the \n",
    "# Wind Speed column from the northern_hemi_df DataFrame. \n",
    "\n",
    "# Edit the title, y_label, and text_coordinates for the wind speed scatter plot.\n",
    "\n"
   ]
  },
  {
   "cell_type": "code",
   "execution_count": 88,
   "metadata": {},
   "outputs": [
    {
     "data": {
      "image/png": "[encoded data removed]",
      "text/plain": [
       "<Figure size 432x288 with 1 Axes>"
      ]
     },
     "metadata": {
      "needs_background": "light"
     },
     "output_type": "display_data"
    }
   ],
   "source": [
    "# Linear regression on the Northern Hemisphere\n",
    "x_values = northern_hemi_df[\"Lat\"]\n",
    "y_values = northern_hemi_df[\"Wind Speed\"]\n",
    "# Call the function.\n",
    "plot_linear_regression(x_values, y_values,\n",
    "                       'Linear Regression on the Northern Hemisphere \\\n",
    "                        for Wind Speed', 'Wind Speed',(40,35))"
   ]
  },
  {
   "cell_type": "code",
   "execution_count": null,
   "metadata": {},
   "outputs": [],
   "source": [
    "# Why didn't the formula show up?"
   ]
  },
  {
   "cell_type": "code",
   "execution_count": null,
   "metadata": {},
   "outputs": [],
   "source": [
    "# Perform Linear Regression on the Wind Speed for the Southern Hemisphere\n",
    "\n",
    "# Finally, let's call the plot_linear_regression function, with the x-value equal to the latitude column and the \n",
    "# y-value equal to wind speed column from the southern_hemi_df DataFrame. \n",
    "\n",
    "# Edit the title, y_label, and text_coordinates for the wind speed scatter plot."
   ]
  },
  {
   "cell_type": "code",
   "execution_count": 90,
   "metadata": {},
   "outputs": [
    {
     "data": {
      "image/png": "[encoded data removed]",
      "text/plain": [
       "<Figure size 432x288 with 1 Axes>"
      ]
     },
     "metadata": {
      "needs_background": "light"
     },
     "output_type": "display_data"
    }
   ],
   "source": [
    "# Linear regression on the Southern Hemisphere\n",
    "x_values = southern_hemi_df[\"Lat\"]\n",
    "y_values = southern_hemi_df[\"Wind Speed\"]\n",
    "# Call the function.\n",
    "plot_linear_regression(x_values, y_values,\n",
    "                       'Linear Regression on the Southern Hemisphere \\\n",
    "                        for Wind Speed', 'Wind Speed',(-50,35))"
   ]
  },
  {
   "cell_type": "code",
   "execution_count": null,
   "metadata": {},
   "outputs": [],
   "source": [
    "# The correlation between the latitude and wind speed is very low because the r-value is less  than –0.07 for the \n",
    "# Northern Hemisphere and less than –0.3 for the Southern Hemisphere for the plots shown here. \n",
    "\n",
    "# This means that wind speed is unpredictable due to changing weather patterns that can increase or decrease wind \n",
    "# speed. \n",
    "\n",
    "# Check the r-values for your plots. \n",
    "\n"
   ]
  }
 ],
 "metadata": {
  "kernelspec": {
   "display_name": "PythonData",
   "language": "python",
   "name": "pythondata"
  },
  "language_info": {
   "codemirror_mode": {
    "name": "ipython",
    "version": 3
   },
   "file_extension": ".py",
   "mimetype": "text/x-python",
   "name": "python",
   "nbconvert_exporter": "python",
   "pygments_lexer": "ipython3",
   "version": "3.7.7"
  }
 },
 "nbformat": 4,
 "nbformat_minor": 4
}
