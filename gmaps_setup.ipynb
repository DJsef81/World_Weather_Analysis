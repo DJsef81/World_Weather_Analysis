{
 "cells": [
  {
   "cell_type": "code",
   "execution_count": null,
   "metadata": {},
   "outputs": [],
   "source": [
    "# 6.5.1 Set Up Google Maps and Places API\n"
   ]
  },
  {
   "cell_type": "code",
   "execution_count": null,
   "metadata": {},
   "outputs": [],
   "source": [
    "# create a variety of heatmaps for the weather data on the website, with some interactive dropdowns for additional \n",
    "# information. You will need to write the code that uses the Google Maps and Places API that will create each heatmap"
   ]
  },
  {
   "cell_type": "code",
   "execution_count": null,
   "metadata": {},
   "outputs": [],
   "source": [
    "# Google makes available some of the vast sets of tools that power Google Maps, so that any developer, such as yourself, can use the same technologies and datasets in their own applications.\n",
    "\n",
    "# These APIs help developers perform the following tasks:\n",
    "\n",
    "# Convert latitudinal and longitudinal coordinates into locations on a map.\n",
    "# Create a heatmap based on the density or weight of a feature, such as an earthquake.\n",
    "# Identify the hotels or restaurants closest to a given location.\n",
    "# Determine the distance between two points.\n"
   ]
  },
  {
   "cell_type": "code",
   "execution_count": null,
   "metadata": {},
   "outputs": [],
   "source": [
    "# To create custom maps with Google, we will install the gmaps dependency, which is a Jupyter plugin for embedding \n",
    "# Google Maps in your notebooks.\n",
    "\n",
    "# Using gmaps, we'll create heatmaps and location markers for hotels within a certain radius of the cities where our \n",
    "# customers travel. \n",
    "\n",
    "# Below is an example of the type of heatmap we'll create, covering the now-familiar weather parameters: \n",
    "# maximum temperature, percent humidity, percent cloudiness, and wind speed.\n",
    "    "
   ]
  },
  {
   "cell_type": "code",
   "execution_count": null,
   "metadata": {},
   "outputs": [],
   "source": [
    "# To create this heatmap, we'll need to register for a Google Maps and Places API key on the Google Developer site."
   ]
  },
  {
   "cell_type": "code",
   "execution_count": null,
   "metadata": {},
   "outputs": [],
   "source": []
  }
 ],
 "metadata": {
  "kernelspec": {
   "display_name": "PythonData",
   "language": "python",
   "name": "pythondata"
  },
  "language_info": {
   "codemirror_mode": {
    "name": "ipython",
    "version": 3
   },
   "file_extension": ".py",
   "mimetype": "text/x-python",
   "name": "python",
   "nbconvert_exporter": "python",
   "pygments_lexer": "ipython3",
   "version": "3.7.7"
  }
 },
 "nbformat": 4,
 "nbformat_minor": 4
}
