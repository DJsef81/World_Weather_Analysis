{
 "cells": [
  {
   "cell_type": "code",
   "execution_count": 1,
   "metadata": {},
   "outputs": [],
   "source": [
    "# 6.5.2 Create Heatmaps for Weather Parameters\n",
    "\n",
    "# For a basic heatmap, all we need to do is provide the following:\n",
    "\n",
    "# Latitudes and longitudes for the locations\n",
    "# A measurement value for each latitude and longitude in the form of arrays that have the same number of items in \n",
    "# each array"
   ]
  },
  {
   "cell_type": "code",
   "execution_count": 2,
   "metadata": {},
   "outputs": [],
   "source": [
    "# Begin by importing our dependencies and Google API key, and then add our cities.csv file to a DataFrame. \n",
    "\n",
    "# In the first cell, add our dependencies and API key."
   ]
  },
  {
   "cell_type": "code",
   "execution_count": 19,
   "metadata": {},
   "outputs": [],
   "source": [
    "# Import the dependencies.\n",
    "import pandas as pd\n",
    "import gmaps\n",
    "import requests\n",
    "# Import the API key.\n",
    "from config import g_key"
   ]
  },
  {
   "cell_type": "code",
   "execution_count": 4,
   "metadata": {},
   "outputs": [],
   "source": [
    "# Let's review how we will use our dependencies. We'll use Pandas to read our CSV file and create the locations and \n",
    "# measurements from the DataFrame. \n",
    "\n",
    "# We'll use gmaps and the API key to create heatmaps and the locations map, and we'll use the requests dependency to \n",
    "# make a request to the Google Places JSON file. \n",
    "\n",
    "# This will allow us to get hotel locations from the latitude and longitude of the city.\n"
   ]
  },
  {
   "cell_type": "code",
   "execution_count": 5,
   "metadata": {},
   "outputs": [
    {
     "data": {
      "text/html": [
       "<div>\n",
       "<style scoped>\n",
       "    .dataframe tbody tr th:only-of-type {\n",
       "        vertical-align: middle;\n",
       "    }\n",
       "\n",
       "    .dataframe tbody tr th {\n",
       "        vertical-align: top;\n",
       "    }\n",
       "\n",
       "    .dataframe thead th {\n",
       "        text-align: right;\n",
       "    }\n",
       "</style>\n",
       "<table border=\"1\" class=\"dataframe\">\n",
       "  <thead>\n",
       "    <tr style=\"text-align: right;\">\n",
       "      <th></th>\n",
       "      <th>City_ID</th>\n",
       "      <th>City</th>\n",
       "      <th>Lat</th>\n",
       "      <th>Lng</th>\n",
       "      <th>Max Temp</th>\n",
       "      <th>Humidity</th>\n",
       "      <th>Cloudiness</th>\n",
       "      <th>Wind Speed</th>\n",
       "      <th>Country</th>\n",
       "      <th>Date</th>\n",
       "    </tr>\n",
       "  </thead>\n",
       "  <tbody>\n",
       "    <tr>\n",
       "      <th>0</th>\n",
       "      <td>0</td>\n",
       "      <td>Piacabucu</td>\n",
       "      <td>-10.41</td>\n",
       "      <td>-36.43</td>\n",
       "      <td>76.12</td>\n",
       "      <td>77</td>\n",
       "      <td>0</td>\n",
       "      <td>9.91</td>\n",
       "      <td>BR</td>\n",
       "      <td>2020-11-12 00:04:06</td>\n",
       "    </tr>\n",
       "    <tr>\n",
       "      <th>1</th>\n",
       "      <td>1</td>\n",
       "      <td>Inuvik</td>\n",
       "      <td>68.35</td>\n",
       "      <td>-133.72</td>\n",
       "      <td>5.00</td>\n",
       "      <td>71</td>\n",
       "      <td>22</td>\n",
       "      <td>5.82</td>\n",
       "      <td>CA</td>\n",
       "      <td>2020-11-12 00:04:06</td>\n",
       "    </tr>\n",
       "    <tr>\n",
       "      <th>2</th>\n",
       "      <td>2</td>\n",
       "      <td>Jamestown</td>\n",
       "      <td>42.10</td>\n",
       "      <td>-79.24</td>\n",
       "      <td>48.99</td>\n",
       "      <td>87</td>\n",
       "      <td>1</td>\n",
       "      <td>10.29</td>\n",
       "      <td>US</td>\n",
       "      <td>2020-11-12 00:03:44</td>\n",
       "    </tr>\n",
       "    <tr>\n",
       "      <th>3</th>\n",
       "      <td>3</td>\n",
       "      <td>Yuli</td>\n",
       "      <td>9.70</td>\n",
       "      <td>10.27</td>\n",
       "      <td>75.61</td>\n",
       "      <td>34</td>\n",
       "      <td>10</td>\n",
       "      <td>5.59</td>\n",
       "      <td>NG</td>\n",
       "      <td>2020-11-12 00:04:07</td>\n",
       "    </tr>\n",
       "    <tr>\n",
       "      <th>4</th>\n",
       "      <td>4</td>\n",
       "      <td>Namie</td>\n",
       "      <td>37.48</td>\n",
       "      <td>141.00</td>\n",
       "      <td>51.01</td>\n",
       "      <td>57</td>\n",
       "      <td>0</td>\n",
       "      <td>3.80</td>\n",
       "      <td>JP</td>\n",
       "      <td>2020-11-12 00:04:07</td>\n",
       "    </tr>\n",
       "  </tbody>\n",
       "</table>\n",
       "</div>"
      ],
      "text/plain": [
       "   City_ID       City    Lat     Lng  Max Temp  Humidity  Cloudiness  \\\n",
       "0        0  Piacabucu -10.41  -36.43     76.12        77           0   \n",
       "1        1     Inuvik  68.35 -133.72      5.00        71          22   \n",
       "2        2  Jamestown  42.10  -79.24     48.99        87           1   \n",
       "3        3       Yuli   9.70   10.27     75.61        34          10   \n",
       "4        4      Namie  37.48  141.00     51.01        57           0   \n",
       "\n",
       "   Wind Speed Country                 Date  \n",
       "0        9.91      BR  2020-11-12 00:04:06  \n",
       "1        5.82      CA  2020-11-12 00:04:06  \n",
       "2       10.29      US  2020-11-12 00:03:44  \n",
       "3        5.59      NG  2020-11-12 00:04:07  \n",
       "4        3.80      JP  2020-11-12 00:04:07  "
      ]
     },
     "execution_count": 5,
     "metadata": {},
     "output_type": "execute_result"
    }
   ],
   "source": [
    "# Next, we'll read our cities.csv file into a DataFrame. Add the following code and run it to create the DataFrame.\n",
    "\n",
    "# Store the CSV you saved created in part one into a DataFrame.\n",
    "city_data_df = pd.read_csv(\"weather_data/cities.csv\")\n",
    "city_data_df.head()"
   ]
  },
  {
   "cell_type": "code",
   "execution_count": 6,
   "metadata": {},
   "outputs": [
    {
     "data": {
      "text/plain": [
       "City_ID         int64\n",
       "City           object\n",
       "Lat           float64\n",
       "Lng           float64\n",
       "Max Temp      float64\n",
       "Humidity        int64\n",
       "Cloudiness      int64\n",
       "Wind Speed    float64\n",
       "Country        object\n",
       "Date           object\n",
       "dtype: object"
      ]
     },
     "execution_count": 6,
     "metadata": {},
     "output_type": "execute_result"
    }
   ],
   "source": [
    "# One caveat to using gmaps: The data we use for any mapping must be either an integer or a floating-point decimal \n",
    "# number. Let's check the data types for the columns of our DataFrame.\n",
    "\n",
    "#get the data types\n",
    "city_data_df.dtypes\n"
   ]
  },
  {
   "cell_type": "code",
   "execution_count": 7,
   "metadata": {},
   "outputs": [],
   "source": [
    "# Create a Maximum Temperature Heatmap\n",
    "\n",
    "# First, tell gmaps to use your API key. You only need to configure gmaps to use your API key once."
   ]
  },
  {
   "cell_type": "code",
   "execution_count": 8,
   "metadata": {},
   "outputs": [],
   "source": [
    "# Configure gmaps to use your Google API key.\n",
    "gmaps.configure(api_key=g_key)"
   ]
  },
  {
   "cell_type": "code",
   "execution_count": 9,
   "metadata": {},
   "outputs": [],
   "source": [
    "# Next, create the heatmap for the maximum temperature. The general syntax for creating a heatmap is as follows."
   ]
  },
  {
   "cell_type": "code",
   "execution_count": 10,
   "metadata": {},
   "outputs": [],
   "source": [
    "# 1. Assign the locations to an array of latitude and longitude pairs.\n",
    "# locations = [latitude, longitude]\n",
    "\n",
    "# 2. Assign the weights variable to some values.\n",
    "# temperatures = # an array of length equal to the locations array length\n",
    "\n",
    "# 3. Assign the figure variable to the gmaps.figure() attribute.\n",
    "# fig = gmaps.figure()\n",
    "\n",
    "# 4. Assign the heatmap_layer variable to the heatmap_layer attribute and add in the locations.\n",
    "# heatmap_layer = gmaps.heatmap_layer(locations, weights=temperatures)\n",
    "\n",
    "# 5. Add the heatmap layer.\n",
    "# fig.add_layer(heatmap_layer)\n",
    "\n",
    "# 6. Call the figure to plot the data.\n",
    "#fig"
   ]
  },
  {
   "cell_type": "code",
   "execution_count": 11,
   "metadata": {},
   "outputs": [],
   "source": [
    "# WE HAVE TO ADD THIS AND ADJUST OUR CODE BECAUSE WE GOT A NEGATIVE NUMBER WHEN TRYING TO ASSIGN OUR HEAT-LAYER VARIABLE\n",
    "# BELOW. \n",
    "\n",
    "# In the for loop, we're using the max() function to get the largest value between the temp and 0. \n",
    "\n",
    "# If the temp is less than 0, then 0 will be added to the list in its place. Otherwise, the temp is added to the list.\n",
    "\n",
    "\n",
    "# Get the maximum temperature.\n",
    "max_temp = city_data_df[\"Max Temp\"]\n",
    "temps = []\n",
    "for temp in max_temp:\n",
    "    temps.append(max(temp, 0))"
   ]
  },
  {
   "cell_type": "code",
   "execution_count": 12,
   "metadata": {},
   "outputs": [],
   "source": [
    "# Google heatmaps do not plot negative numbers.\n",
    "\n",
    "# If you have a maximum temperature that is less than 0 °F, then you will get an InvalidWeightException error for \n",
    "# this line of code:\n",
    "    \n",
    "# heat_layer = gmaps.heatmap_layer(locations, weights=max_temp)\n",
    "\n",
    "# To remove the negative temperatures we can use a for loop to iterate through the max_temp and add the temperatures \n",
    "# that are greater than 0 °F to a new list.\n",
    "\n"
   ]
  },
  {
   "cell_type": "code",
   "execution_count": 13,
   "metadata": {},
   "outputs": [],
   "source": [
    "# Now change the following code in the heat_layer:\n",
    "\n",
    "# heat_layer = gmaps.heatmap_layer(locations, weights=max_temp)\n",
    "\n",
    "# To look like the following:\n",
    "\n",
    "# heat_layer = gmaps.heatmap_layer(locations, weights=temps)"
   ]
  },
  {
   "cell_type": "code",
   "execution_count": 14,
   "metadata": {},
   "outputs": [],
   "source": [
    "# Add the locations array and the values from the maximum temperature from our city_data_df DataFrame for Steps 1 and \n",
    "# 2 and the rest of the code above.\n"
   ]
  },
  {
   "cell_type": "code",
   "execution_count": 15,
   "metadata": {},
   "outputs": [
    {
     "data": {
      "application/vnd.jupyter.widget-view+json": {
       "model_id": "ff6a72775cb9457f80ce166d57d8f661",
       "version_major": 2,
       "version_minor": 0
      },
      "text/plain": [
       "Figure(layout=FigureLayout(height='420px'))"
      ]
     },
     "metadata": {},
     "output_type": "display_data"
    }
   ],
   "source": [
    "# Heatmap of temperature\n",
    "# Get the latitude and longitude.\n",
    "locations = city_data_df[[\"Lat\", \"Lng\"]]\n",
    "# Get the maximum temperature.\n",
    "max_temp = city_data_df[\"Max Temp\"]\n",
    "# Assign the figure variable.\n",
    "fig = gmaps.figure()\n",
    "# Assign the heatmap variable.\n",
    "heat_layer = gmaps.heatmap_layer(locations, weights=temps)\n",
    "# Add the heatmap layer.\n",
    "fig.add_layer(heat_layer)\n",
    "# Call the figure to plot the data.\n",
    "fig"
   ]
  },
  {
   "cell_type": "code",
   "execution_count": 16,
   "metadata": {},
   "outputs": [],
   "source": [
    "#How would you convert the following for loop using list comprehension?\n",
    "\n",
    "#for temp in max_temp:\n",
    "#    temps.append(max(temp, 0))\n",
    " \n",
    "\n",
    "\n",
    "# [for temp in max_temp max(temp, 0)]\n",
    "\n",
    "\n",
    "# [for temp in max_temp(temps.append(temp)]\n",
    "\n",
    "# [max(temp, 0) for temp in max_temp] <--- correct answer"
   ]
  },
  {
   "cell_type": "code",
   "execution_count": 17,
   "metadata": {},
   "outputs": [],
   "source": [
    "# Instead of using the for loop, we can perform a list comprehension within the heatmap_layer() function.\n",
    "\n",
    "# Replace temps with our code for the list comprehension so our heat_layer code looks like the following:\n",
    "\n",
    "# heat_layer = gmaps.heatmap_layer(locations, weights=[max(temp, 0) for temp in max_temp])"
   ]
  },
  {
   "cell_type": "code",
   "execution_count": 20,
   "metadata": {},
   "outputs": [
    {
     "data": {
      "application/vnd.jupyter.widget-view+json": {
       "model_id": "cebf642cea5b4e0eb5e2a1883718e074",
       "version_major": 2,
       "version_minor": 0
      },
      "text/plain": [
       "Figure(layout=FigureLayout(height='420px'))"
      ]
     },
     "metadata": {},
     "output_type": "display_data"
    }
   ],
   "source": [
    "# Heatmap of temperature\n",
    "# Get the latitude and longitude.\n",
    "locations = city_data_df[[\"Lat\", \"Lng\"]]\n",
    "# Get the maximum temperature.\n",
    "max_temp = city_data_df[\"Max Temp\"]\n",
    "# Assign the figure variable.\n",
    "fig = gmaps.figure()\n",
    "# Assign the heatmap variable.\n",
    "heat_layer = gmaps.heatmap_layer(locations, weights=[max(temp, 0) for temp in max_temp])\n",
    "# Add the heatmap layer.\n",
    "fig.add_layer(heat_layer)\n",
    "# Call the figure to plot the data.\n",
    "fig"
   ]
  },
  {
   "cell_type": "code",
   "execution_count": null,
   "metadata": {},
   "outputs": [],
   "source": []
  }
 ],
 "metadata": {
  "kernelspec": {
   "display_name": "PythonData",
   "language": "python",
   "name": "pythondata"
  },
  "language_info": {
   "codemirror_mode": {
    "name": "ipython",
    "version": 3
   },
   "file_extension": ".py",
   "mimetype": "text/x-python",
   "name": "python",
   "nbconvert_exporter": "python",
   "pygments_lexer": "ipython3",
   "version": "3.7.7"
  }
 },
 "nbformat": 4,
 "nbformat_minor": 4
}
